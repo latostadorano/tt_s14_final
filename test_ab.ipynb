{
 "cells": [
  {
   "cell_type": "markdown",
   "id": "d999c0e8",
   "metadata": {},
   "source": [
    "# Recommender system test\n",
    "\n",
    "### Propósito de la prueba:\n",
    "Probar cambios relacionados con la introducción de un sistema de recomendaciones mejorado\n",
    "\n",
    "### Resultado esperado: \n",
    "Dentro de los 14 días posteriores a la inscripción, los usuarios mostrarán una mejor conversión en vistas de la página del producto (el evento **product_page**), instancias de agregar artículos al carrito de compras (**product_cart**) y compras (**purchase**). En cada etapa del embudo **product_page → product_cart → purchase**, habrá al menos un 10% de aumento."
   ]
  },
  {
   "cell_type": "markdown",
   "id": "754558cd",
   "metadata": {},
   "source": [
    "## Instrucciones para completar la tarea\n",
    "\n",
    "- Describe los objetivos del estudio.\n",
    "- Explora los datos:\n",
    "    - ¿Es necesario convertir los tipos?\n",
    "    - ¿Hay valores ausentes o duplicados? Si es así, ¿cómo los caracterizarías?\n",
    "- Lleva a cabo el análisis exploratorio de datos:\n",
    "    - Estudia la conversión en las diferentes etapas del embudo.\n",
    "    - ¿El número de eventos por usuario está distribuido equitativamente entre las muestras?\n",
    "    - ¿Hay usuarios que están presentes en ambas muestras?\n",
    "    - ¿Cómo se distribuye el número de eventos entre los días?\n",
    "    - ¿Hay alguna peculiaridad en los datos que hay que tener en cuenta antes de iniciar la prueba A/B?\n",
    "- Evaluar los resultados de la prueba A/B:\n",
    "    - ¿Qué puedes decir sobre los resultados de la prueba A/B?\n",
    "    - Utiliza una prueba z para comprobar la diferencia estadística entre las proporciones\n",
    "- Describe tus conclusiones con respecto a la etapa EDA y los resultados de la prueba A/B"
   ]
  },
  {
   "cell_type": "markdown",
   "id": "3432a015",
   "metadata": {},
   "source": [
    "## Describir los objetivos del estudio\n",
    "\n",
    "Comprobaremos si los usuarios mostraron una mejor conversión en vistas de la página del pruducto (product_page), instancias de agregar artículos al carrito de compras (product_card) y compras (purchase). En cada etapa del embudo product_page → product_card → purchase, habrá al menos un 10% de aumento."
   ]
  },
  {
   "cell_type": "code",
   "execution_count": 52,
   "id": "f361271b",
   "metadata": {},
   "outputs": [],
   "source": [
    "import pandas as pd \n",
    "import numpy as np \n",
    "import matplotlib.pyplot as plt\n",
    "from sklearn.preprocessing import MultiLabelBinarizer\n",
    "import re\n",
    "from statsmodels.stats.proportion import proportions_ztest\n",
    "from scipy import stats"
   ]
  },
  {
   "cell_type": "markdown",
   "id": "947e5e91",
   "metadata": {},
   "source": [
    "## Exploración de datos"
   ]
  },
  {
   "cell_type": "code",
   "execution_count": 2,
   "id": "31ff7c5e",
   "metadata": {},
   "outputs": [
    {
     "name": "stdout",
     "output_type": "stream",
     "text": [
      "---\n",
      "                       name regions    start_dt   finish_dt\n",
      "12  Single's Day Gift Promo    APAC  2020-11-11  2020-11-12\n",
      "\n",
      "---\n",
      "               user_id  first_date region   device\n",
      "7485  734955B863D4E190  2020-12-14     EU  Android\n",
      "\n",
      "---\n",
      "                user_id             event_dt event_name  details\n",
      "24768  CF40916C791BBA18  2020-12-17 06:17:09   purchase     4.99\n",
      "\n",
      "---\n",
      "               user_id group            ab_test\n",
      "5361  C7C4ECB8E1499529     A  interface_eu_test\n",
      "\n"
     ]
    }
   ],
   "source": [
    "mkt_events = pd.read_csv('datasets/ab_project_marketing_events_us.csv')\n",
    "users = pd.read_csv('datasets/final_ab_new_users_upd_us.csv')\n",
    "events = pd.read_csv('datasets/final_ab_events_upd_us.csv')\n",
    "ab_data = pd.read_csv('datasets/final_ab_participants_upd_us.csv')\n",
    "\n",
    "datas = [mkt_events, users, events, ab_data]\n",
    "\n",
    "for data in datas: \n",
    "    print('---')\n",
    "    print(data.sample())\n",
    "    print()"
   ]
  },
  {
   "cell_type": "markdown",
   "id": "728eae94",
   "metadata": {},
   "source": [
    "## MKT events"
   ]
  },
  {
   "cell_type": "code",
   "execution_count": 3,
   "id": "d7b84b15",
   "metadata": {},
   "outputs": [
    {
     "data": {
      "text/html": [
       "<div>\n",
       "<style scoped>\n",
       "    .dataframe tbody tr th:only-of-type {\n",
       "        vertical-align: middle;\n",
       "    }\n",
       "\n",
       "    .dataframe tbody tr th {\n",
       "        vertical-align: top;\n",
       "    }\n",
       "\n",
       "    .dataframe thead th {\n",
       "        text-align: right;\n",
       "    }\n",
       "</style>\n",
       "<table border=\"1\" class=\"dataframe\">\n",
       "  <thead>\n",
       "    <tr style=\"text-align: right;\">\n",
       "      <th></th>\n",
       "      <th>name</th>\n",
       "      <th>regions</th>\n",
       "      <th>start_dt</th>\n",
       "      <th>finish_dt</th>\n",
       "    </tr>\n",
       "  </thead>\n",
       "  <tbody>\n",
       "    <tr>\n",
       "      <th>0</th>\n",
       "      <td>Christmas&amp;New Year Promo</td>\n",
       "      <td>EU, N.America</td>\n",
       "      <td>2020-12-25</td>\n",
       "      <td>2021-01-03</td>\n",
       "    </tr>\n",
       "    <tr>\n",
       "      <th>1</th>\n",
       "      <td>St. Valentine's Day Giveaway</td>\n",
       "      <td>EU, CIS, APAC, N.America</td>\n",
       "      <td>2020-02-14</td>\n",
       "      <td>2020-02-16</td>\n",
       "    </tr>\n",
       "    <tr>\n",
       "      <th>2</th>\n",
       "      <td>St. Patric's Day Promo</td>\n",
       "      <td>EU, N.America</td>\n",
       "      <td>2020-03-17</td>\n",
       "      <td>2020-03-19</td>\n",
       "    </tr>\n",
       "    <tr>\n",
       "      <th>3</th>\n",
       "      <td>Easter Promo</td>\n",
       "      <td>EU, CIS, APAC, N.America</td>\n",
       "      <td>2020-04-12</td>\n",
       "      <td>2020-04-19</td>\n",
       "    </tr>\n",
       "    <tr>\n",
       "      <th>4</th>\n",
       "      <td>4th of July Promo</td>\n",
       "      <td>N.America</td>\n",
       "      <td>2020-07-04</td>\n",
       "      <td>2020-07-11</td>\n",
       "    </tr>\n",
       "  </tbody>\n",
       "</table>\n",
       "</div>"
      ],
      "text/plain": [
       "                           name                   regions    start_dt  \\\n",
       "0      Christmas&New Year Promo             EU, N.America  2020-12-25   \n",
       "1  St. Valentine's Day Giveaway  EU, CIS, APAC, N.America  2020-02-14   \n",
       "2        St. Patric's Day Promo             EU, N.America  2020-03-17   \n",
       "3                  Easter Promo  EU, CIS, APAC, N.America  2020-04-12   \n",
       "4             4th of July Promo                 N.America  2020-07-04   \n",
       "\n",
       "    finish_dt  \n",
       "0  2021-01-03  \n",
       "1  2020-02-16  \n",
       "2  2020-03-19  \n",
       "3  2020-04-19  \n",
       "4  2020-07-11  "
      ]
     },
     "execution_count": 3,
     "metadata": {},
     "output_type": "execute_result"
    }
   ],
   "source": [
    "mkt_events.head()"
   ]
  },
  {
   "cell_type": "code",
   "execution_count": 4,
   "id": "c222ca22",
   "metadata": {},
   "outputs": [
    {
     "name": "stdout",
     "output_type": "stream",
     "text": [
      "<class 'pandas.core.frame.DataFrame'>\n",
      "RangeIndex: 14 entries, 0 to 13\n",
      "Data columns (total 4 columns):\n",
      " #   Column     Non-Null Count  Dtype \n",
      "---  ------     --------------  ----- \n",
      " 0   name       14 non-null     object\n",
      " 1   regions    14 non-null     object\n",
      " 2   start_dt   14 non-null     object\n",
      " 3   finish_dt  14 non-null     object\n",
      "dtypes: object(4)\n",
      "memory usage: 580.0+ bytes\n"
     ]
    }
   ],
   "source": [
    "mkt_events.info()"
   ]
  },
  {
   "cell_type": "code",
   "execution_count": 5,
   "id": "78b023a5",
   "metadata": {},
   "outputs": [
    {
     "data": {
      "text/html": [
       "<div>\n",
       "<style scoped>\n",
       "    .dataframe tbody tr th:only-of-type {\n",
       "        vertical-align: middle;\n",
       "    }\n",
       "\n",
       "    .dataframe tbody tr th {\n",
       "        vertical-align: top;\n",
       "    }\n",
       "\n",
       "    .dataframe thead th {\n",
       "        text-align: right;\n",
       "    }\n",
       "</style>\n",
       "<table border=\"1\" class=\"dataframe\">\n",
       "  <thead>\n",
       "    <tr style=\"text-align: right;\">\n",
       "      <th></th>\n",
       "      <th>name</th>\n",
       "      <th>regions</th>\n",
       "      <th>start_dt</th>\n",
       "      <th>finish_dt</th>\n",
       "    </tr>\n",
       "  </thead>\n",
       "  <tbody>\n",
       "    <tr>\n",
       "      <th>count</th>\n",
       "      <td>14</td>\n",
       "      <td>14</td>\n",
       "      <td>14</td>\n",
       "      <td>14</td>\n",
       "    </tr>\n",
       "    <tr>\n",
       "      <th>unique</th>\n",
       "      <td>14</td>\n",
       "      <td>6</td>\n",
       "      <td>14</td>\n",
       "      <td>14</td>\n",
       "    </tr>\n",
       "    <tr>\n",
       "      <th>top</th>\n",
       "      <td>Christmas&amp;New Year Promo</td>\n",
       "      <td>APAC</td>\n",
       "      <td>2020-12-25</td>\n",
       "      <td>2021-01-03</td>\n",
       "    </tr>\n",
       "    <tr>\n",
       "      <th>freq</th>\n",
       "      <td>1</td>\n",
       "      <td>4</td>\n",
       "      <td>1</td>\n",
       "      <td>1</td>\n",
       "    </tr>\n",
       "  </tbody>\n",
       "</table>\n",
       "</div>"
      ],
      "text/plain": [
       "                            name regions    start_dt   finish_dt\n",
       "count                         14      14          14          14\n",
       "unique                        14       6          14          14\n",
       "top     Christmas&New Year Promo    APAC  2020-12-25  2021-01-03\n",
       "freq                           1       4           1           1"
      ]
     },
     "execution_count": 5,
     "metadata": {},
     "output_type": "execute_result"
    }
   ],
   "source": [
    "mkt_events.describe()"
   ]
  },
  {
   "cell_type": "code",
   "execution_count": 6,
   "id": "dceeda88",
   "metadata": {},
   "outputs": [
    {
     "name": "stdout",
     "output_type": "stream",
     "text": [
      "<class 'pandas.core.frame.DataFrame'>\n",
      "RangeIndex: 14 entries, 0 to 13\n",
      "Data columns (total 4 columns):\n",
      " #   Column     Non-Null Count  Dtype         \n",
      "---  ------     --------------  -----         \n",
      " 0   name       14 non-null     object        \n",
      " 1   regions    14 non-null     object        \n",
      " 2   start_dt   14 non-null     datetime64[ns]\n",
      " 3   finish_dt  14 non-null     datetime64[ns]\n",
      "dtypes: datetime64[ns](2), object(2)\n",
      "memory usage: 580.0+ bytes\n"
     ]
    }
   ],
   "source": [
    "# Convertimos columnas de fecha a datetime\n",
    "\n",
    "date_cols = ['start_dt', 'finish_dt']\n",
    "for date in date_cols: \n",
    "    mkt_events[date] = pd.to_datetime(mkt_events[date], errors = 'coerce')\n",
    "\n",
    "mkt_events.info()"
   ]
  },
  {
   "cell_type": "code",
   "execution_count": 7,
   "id": "2a2ecf96",
   "metadata": {},
   "outputs": [
    {
     "data": {
      "text/plain": [
       "np.int64(0)"
      ]
     },
     "execution_count": 7,
     "metadata": {},
     "output_type": "execute_result"
    }
   ],
   "source": [
    "# Buscamos duplicados\n",
    "\n",
    "mkt_events.duplicated().sum()"
   ]
  },
  {
   "cell_type": "code",
   "execution_count": 8,
   "id": "7fae1e63",
   "metadata": {},
   "outputs": [],
   "source": [
    "# Convertimos categorías a columnas binarias\n",
    "\n",
    "def normalize_region_name(name: str) -> str:\n",
    "    \"\"\"\n",
    "    Normaliza el nombre de región:\n",
    "    - lower()\n",
    "    - quita corchetes\n",
    "    - reemplaza espacios, puntos y comas por \"_\"\n",
    "    - elimina dobles guiones bajos\n",
    "    \"\"\"\n",
    "    name = name.lower()\n",
    "    name = re.sub(r\"[\\[\\]]\", \"\", name)         # quita corchetes\n",
    "    name = re.sub(r\"[ ,.\\-]+\", \"_\", name)      # reemplaza separadores por \"_\"\n",
    "    name = re.sub(r\"_+\", \"_\", name)            # colapsa guiones bajos\n",
    "    return name.strip(\"_\")                     # elimina guiones bajos extremos\n",
    "\n",
    "def expand_regions(df, col=\"regions\", sep=\",\"):\n",
    "    # Dividir en listas, manejando NaN\n",
    "    regions = df[col].fillna(\"\").apply(\n",
    "        lambda x: [normalize_region_name(r.strip()) for r in str(x).split(sep) if r.strip()]\n",
    "    )\n",
    "    \n",
    "    # Crear binarizador\n",
    "    mlb = MultiLabelBinarizer()\n",
    "    dummies = pd.DataFrame(\n",
    "        mlb.fit_transform(regions),\n",
    "        index=df.index,\n",
    "        columns=mlb.classes_\n",
    "    )\n",
    "    \n",
    "    # Unir al df original\n",
    "    return df.join(dummies)\n",
    "\n",
    "mkt_events = expand_regions(mkt_events)"
   ]
  },
  {
   "cell_type": "code",
   "execution_count": 9,
   "id": "e3a708ce",
   "metadata": {},
   "outputs": [
    {
     "data": {
      "text/html": [
       "<div>\n",
       "<style scoped>\n",
       "    .dataframe tbody tr th:only-of-type {\n",
       "        vertical-align: middle;\n",
       "    }\n",
       "\n",
       "    .dataframe tbody tr th {\n",
       "        vertical-align: top;\n",
       "    }\n",
       "\n",
       "    .dataframe thead th {\n",
       "        text-align: right;\n",
       "    }\n",
       "</style>\n",
       "<table border=\"1\" class=\"dataframe\">\n",
       "  <thead>\n",
       "    <tr style=\"text-align: right;\">\n",
       "      <th></th>\n",
       "      <th>name</th>\n",
       "      <th>regions</th>\n",
       "      <th>start_dt</th>\n",
       "      <th>finish_dt</th>\n",
       "      <th>apac</th>\n",
       "      <th>cis</th>\n",
       "      <th>eu</th>\n",
       "      <th>n_america</th>\n",
       "    </tr>\n",
       "  </thead>\n",
       "  <tbody>\n",
       "    <tr>\n",
       "      <th>0</th>\n",
       "      <td>Christmas&amp;New Year Promo</td>\n",
       "      <td>EU, N.America</td>\n",
       "      <td>2020-12-25</td>\n",
       "      <td>2021-01-03</td>\n",
       "      <td>0</td>\n",
       "      <td>0</td>\n",
       "      <td>1</td>\n",
       "      <td>1</td>\n",
       "    </tr>\n",
       "    <tr>\n",
       "      <th>1</th>\n",
       "      <td>St. Valentine's Day Giveaway</td>\n",
       "      <td>EU, CIS, APAC, N.America</td>\n",
       "      <td>2020-02-14</td>\n",
       "      <td>2020-02-16</td>\n",
       "      <td>1</td>\n",
       "      <td>1</td>\n",
       "      <td>1</td>\n",
       "      <td>1</td>\n",
       "    </tr>\n",
       "    <tr>\n",
       "      <th>2</th>\n",
       "      <td>St. Patric's Day Promo</td>\n",
       "      <td>EU, N.America</td>\n",
       "      <td>2020-03-17</td>\n",
       "      <td>2020-03-19</td>\n",
       "      <td>0</td>\n",
       "      <td>0</td>\n",
       "      <td>1</td>\n",
       "      <td>1</td>\n",
       "    </tr>\n",
       "    <tr>\n",
       "      <th>3</th>\n",
       "      <td>Easter Promo</td>\n",
       "      <td>EU, CIS, APAC, N.America</td>\n",
       "      <td>2020-04-12</td>\n",
       "      <td>2020-04-19</td>\n",
       "      <td>1</td>\n",
       "      <td>1</td>\n",
       "      <td>1</td>\n",
       "      <td>1</td>\n",
       "    </tr>\n",
       "    <tr>\n",
       "      <th>4</th>\n",
       "      <td>4th of July Promo</td>\n",
       "      <td>N.America</td>\n",
       "      <td>2020-07-04</td>\n",
       "      <td>2020-07-11</td>\n",
       "      <td>0</td>\n",
       "      <td>0</td>\n",
       "      <td>0</td>\n",
       "      <td>1</td>\n",
       "    </tr>\n",
       "    <tr>\n",
       "      <th>5</th>\n",
       "      <td>Black Friday Ads Campaign</td>\n",
       "      <td>EU, CIS, APAC, N.America</td>\n",
       "      <td>2020-11-26</td>\n",
       "      <td>2020-12-01</td>\n",
       "      <td>1</td>\n",
       "      <td>1</td>\n",
       "      <td>1</td>\n",
       "      <td>1</td>\n",
       "    </tr>\n",
       "    <tr>\n",
       "      <th>6</th>\n",
       "      <td>Chinese New Year Promo</td>\n",
       "      <td>APAC</td>\n",
       "      <td>2020-01-25</td>\n",
       "      <td>2020-02-07</td>\n",
       "      <td>1</td>\n",
       "      <td>0</td>\n",
       "      <td>0</td>\n",
       "      <td>0</td>\n",
       "    </tr>\n",
       "    <tr>\n",
       "      <th>7</th>\n",
       "      <td>Labor day (May 1st) Ads Campaign</td>\n",
       "      <td>EU, CIS, APAC</td>\n",
       "      <td>2020-05-01</td>\n",
       "      <td>2020-05-03</td>\n",
       "      <td>1</td>\n",
       "      <td>1</td>\n",
       "      <td>1</td>\n",
       "      <td>0</td>\n",
       "    </tr>\n",
       "    <tr>\n",
       "      <th>8</th>\n",
       "      <td>International Women's Day Promo</td>\n",
       "      <td>EU, CIS, APAC</td>\n",
       "      <td>2020-03-08</td>\n",
       "      <td>2020-03-10</td>\n",
       "      <td>1</td>\n",
       "      <td>1</td>\n",
       "      <td>1</td>\n",
       "      <td>0</td>\n",
       "    </tr>\n",
       "    <tr>\n",
       "      <th>9</th>\n",
       "      <td>Victory Day CIS (May 9th) Event</td>\n",
       "      <td>CIS</td>\n",
       "      <td>2020-05-09</td>\n",
       "      <td>2020-05-11</td>\n",
       "      <td>0</td>\n",
       "      <td>1</td>\n",
       "      <td>0</td>\n",
       "      <td>0</td>\n",
       "    </tr>\n",
       "    <tr>\n",
       "      <th>10</th>\n",
       "      <td>CIS New Year Gift Lottery</td>\n",
       "      <td>CIS</td>\n",
       "      <td>2020-12-30</td>\n",
       "      <td>2021-01-07</td>\n",
       "      <td>0</td>\n",
       "      <td>1</td>\n",
       "      <td>0</td>\n",
       "      <td>0</td>\n",
       "    </tr>\n",
       "    <tr>\n",
       "      <th>11</th>\n",
       "      <td>Dragon Boat Festival Giveaway</td>\n",
       "      <td>APAC</td>\n",
       "      <td>2020-06-25</td>\n",
       "      <td>2020-07-01</td>\n",
       "      <td>1</td>\n",
       "      <td>0</td>\n",
       "      <td>0</td>\n",
       "      <td>0</td>\n",
       "    </tr>\n",
       "    <tr>\n",
       "      <th>12</th>\n",
       "      <td>Single's Day Gift Promo</td>\n",
       "      <td>APAC</td>\n",
       "      <td>2020-11-11</td>\n",
       "      <td>2020-11-12</td>\n",
       "      <td>1</td>\n",
       "      <td>0</td>\n",
       "      <td>0</td>\n",
       "      <td>0</td>\n",
       "    </tr>\n",
       "    <tr>\n",
       "      <th>13</th>\n",
       "      <td>Chinese Moon Festival</td>\n",
       "      <td>APAC</td>\n",
       "      <td>2020-10-01</td>\n",
       "      <td>2020-10-07</td>\n",
       "      <td>1</td>\n",
       "      <td>0</td>\n",
       "      <td>0</td>\n",
       "      <td>0</td>\n",
       "    </tr>\n",
       "  </tbody>\n",
       "</table>\n",
       "</div>"
      ],
      "text/plain": [
       "                                name                   regions   start_dt  \\\n",
       "0           Christmas&New Year Promo             EU, N.America 2020-12-25   \n",
       "1       St. Valentine's Day Giveaway  EU, CIS, APAC, N.America 2020-02-14   \n",
       "2             St. Patric's Day Promo             EU, N.America 2020-03-17   \n",
       "3                       Easter Promo  EU, CIS, APAC, N.America 2020-04-12   \n",
       "4                  4th of July Promo                 N.America 2020-07-04   \n",
       "5          Black Friday Ads Campaign  EU, CIS, APAC, N.America 2020-11-26   \n",
       "6             Chinese New Year Promo                      APAC 2020-01-25   \n",
       "7   Labor day (May 1st) Ads Campaign             EU, CIS, APAC 2020-05-01   \n",
       "8    International Women's Day Promo             EU, CIS, APAC 2020-03-08   \n",
       "9    Victory Day CIS (May 9th) Event                       CIS 2020-05-09   \n",
       "10         CIS New Year Gift Lottery                       CIS 2020-12-30   \n",
       "11     Dragon Boat Festival Giveaway                      APAC 2020-06-25   \n",
       "12           Single's Day Gift Promo                      APAC 2020-11-11   \n",
       "13             Chinese Moon Festival                      APAC 2020-10-01   \n",
       "\n",
       "    finish_dt  apac  cis  eu  n_america  \n",
       "0  2021-01-03     0    0   1          1  \n",
       "1  2020-02-16     1    1   1          1  \n",
       "2  2020-03-19     0    0   1          1  \n",
       "3  2020-04-19     1    1   1          1  \n",
       "4  2020-07-11     0    0   0          1  \n",
       "5  2020-12-01     1    1   1          1  \n",
       "6  2020-02-07     1    0   0          0  \n",
       "7  2020-05-03     1    1   1          0  \n",
       "8  2020-03-10     1    1   1          0  \n",
       "9  2020-05-11     0    1   0          0  \n",
       "10 2021-01-07     0    1   0          0  \n",
       "11 2020-07-01     1    0   0          0  \n",
       "12 2020-11-12     1    0   0          0  \n",
       "13 2020-10-07     1    0   0          0  "
      ]
     },
     "execution_count": 9,
     "metadata": {},
     "output_type": "execute_result"
    }
   ],
   "source": [
    "mkt_events"
   ]
  },
  {
   "cell_type": "markdown",
   "id": "70fa80e2",
   "metadata": {},
   "source": [
    "## Users"
   ]
  },
  {
   "cell_type": "code",
   "execution_count": 10,
   "id": "ad7ec3a4",
   "metadata": {},
   "outputs": [
    {
     "data": {
      "text/html": [
       "<div>\n",
       "<style scoped>\n",
       "    .dataframe tbody tr th:only-of-type {\n",
       "        vertical-align: middle;\n",
       "    }\n",
       "\n",
       "    .dataframe tbody tr th {\n",
       "        vertical-align: top;\n",
       "    }\n",
       "\n",
       "    .dataframe thead th {\n",
       "        text-align: right;\n",
       "    }\n",
       "</style>\n",
       "<table border=\"1\" class=\"dataframe\">\n",
       "  <thead>\n",
       "    <tr style=\"text-align: right;\">\n",
       "      <th></th>\n",
       "      <th>user_id</th>\n",
       "      <th>first_date</th>\n",
       "      <th>region</th>\n",
       "      <th>device</th>\n",
       "    </tr>\n",
       "  </thead>\n",
       "  <tbody>\n",
       "    <tr>\n",
       "      <th>0</th>\n",
       "      <td>D72A72121175D8BE</td>\n",
       "      <td>2020-12-07</td>\n",
       "      <td>EU</td>\n",
       "      <td>PC</td>\n",
       "    </tr>\n",
       "    <tr>\n",
       "      <th>1</th>\n",
       "      <td>F1C668619DFE6E65</td>\n",
       "      <td>2020-12-07</td>\n",
       "      <td>N.America</td>\n",
       "      <td>Android</td>\n",
       "    </tr>\n",
       "    <tr>\n",
       "      <th>2</th>\n",
       "      <td>2E1BF1D4C37EA01F</td>\n",
       "      <td>2020-12-07</td>\n",
       "      <td>EU</td>\n",
       "      <td>PC</td>\n",
       "    </tr>\n",
       "    <tr>\n",
       "      <th>3</th>\n",
       "      <td>50734A22C0C63768</td>\n",
       "      <td>2020-12-07</td>\n",
       "      <td>EU</td>\n",
       "      <td>iPhone</td>\n",
       "    </tr>\n",
       "    <tr>\n",
       "      <th>4</th>\n",
       "      <td>E1BDDCE0DAFA2679</td>\n",
       "      <td>2020-12-07</td>\n",
       "      <td>N.America</td>\n",
       "      <td>iPhone</td>\n",
       "    </tr>\n",
       "  </tbody>\n",
       "</table>\n",
       "</div>"
      ],
      "text/plain": [
       "            user_id  first_date     region   device\n",
       "0  D72A72121175D8BE  2020-12-07         EU       PC\n",
       "1  F1C668619DFE6E65  2020-12-07  N.America  Android\n",
       "2  2E1BF1D4C37EA01F  2020-12-07         EU       PC\n",
       "3  50734A22C0C63768  2020-12-07         EU   iPhone\n",
       "4  E1BDDCE0DAFA2679  2020-12-07  N.America   iPhone"
      ]
     },
     "execution_count": 10,
     "metadata": {},
     "output_type": "execute_result"
    }
   ],
   "source": [
    "users.head()"
   ]
  },
  {
   "cell_type": "code",
   "execution_count": 11,
   "id": "c2949f61",
   "metadata": {},
   "outputs": [
    {
     "name": "stdout",
     "output_type": "stream",
     "text": [
      "<class 'pandas.core.frame.DataFrame'>\n",
      "RangeIndex: 58703 entries, 0 to 58702\n",
      "Data columns (total 4 columns):\n",
      " #   Column      Non-Null Count  Dtype \n",
      "---  ------      --------------  ----- \n",
      " 0   user_id     58703 non-null  object\n",
      " 1   first_date  58703 non-null  object\n",
      " 2   region      58703 non-null  object\n",
      " 3   device      58703 non-null  object\n",
      "dtypes: object(4)\n",
      "memory usage: 1.8+ MB\n"
     ]
    }
   ],
   "source": [
    "users.info()"
   ]
  },
  {
   "cell_type": "code",
   "execution_count": 12,
   "id": "c7b6cecc",
   "metadata": {},
   "outputs": [
    {
     "data": {
      "text/plain": [
       "np.int64(0)"
      ]
     },
     "execution_count": 12,
     "metadata": {},
     "output_type": "execute_result"
    }
   ],
   "source": [
    "users.duplicated().sum()"
   ]
  },
  {
   "cell_type": "code",
   "execution_count": 13,
   "id": "e0d3feb6",
   "metadata": {},
   "outputs": [
    {
     "name": "stdout",
     "output_type": "stream",
     "text": [
      "<class 'pandas.core.frame.DataFrame'>\n",
      "RangeIndex: 58703 entries, 0 to 58702\n",
      "Data columns (total 4 columns):\n",
      " #   Column      Non-Null Count  Dtype         \n",
      "---  ------      --------------  -----         \n",
      " 0   user_id     58703 non-null  object        \n",
      " 1   first_date  58703 non-null  datetime64[ns]\n",
      " 2   region      58703 non-null  object        \n",
      " 3   device      58703 non-null  object        \n",
      "dtypes: datetime64[ns](1), object(3)\n",
      "memory usage: 1.8+ MB\n"
     ]
    }
   ],
   "source": [
    "users.first_date = pd.to_datetime(users.first_date, errors = 'coerce')\n",
    "users.info()"
   ]
  },
  {
   "cell_type": "code",
   "execution_count": 14,
   "id": "c09066d1",
   "metadata": {},
   "outputs": [
    {
     "data": {
      "text/plain": [
       "device\n",
       "Android    26159\n",
       "PC         14845\n",
       "iPhone     11902\n",
       "Mac         5797\n",
       "Name: count, dtype: int64"
      ]
     },
     "execution_count": 14,
     "metadata": {},
     "output_type": "execute_result"
    }
   ],
   "source": [
    "# Conteo por dispositivos\n",
    "users.device.value_counts()"
   ]
  },
  {
   "cell_type": "code",
   "execution_count": 15,
   "id": "5d4c807e",
   "metadata": {},
   "outputs": [
    {
     "data": {
      "text/plain": [
       "region\n",
       "EU           43396\n",
       "N.America     9051\n",
       "CIS           3130\n",
       "APAC          3126\n",
       "Name: count, dtype: int64"
      ]
     },
     "execution_count": 15,
     "metadata": {},
     "output_type": "execute_result"
    }
   ],
   "source": [
    "# Conteo por región\n",
    "users.region.value_counts()"
   ]
  },
  {
   "cell_type": "code",
   "execution_count": 16,
   "id": "8ae274f3",
   "metadata": {},
   "outputs": [
    {
     "data": {
      "text/plain": [
       "array(['eu', 'n_america', 'apac', 'cis'], dtype=object)"
      ]
     },
     "execution_count": 16,
     "metadata": {},
     "output_type": "execute_result"
    }
   ],
   "source": [
    "users.region = users.region.str.lower().str.replace('.','_')\n",
    "users.region.unique()"
   ]
  },
  {
   "cell_type": "code",
   "execution_count": 17,
   "id": "04c51298",
   "metadata": {},
   "outputs": [
    {
     "data": {
      "text/html": [
       "<div>\n",
       "<style scoped>\n",
       "    .dataframe tbody tr th:only-of-type {\n",
       "        vertical-align: middle;\n",
       "    }\n",
       "\n",
       "    .dataframe tbody tr th {\n",
       "        vertical-align: top;\n",
       "    }\n",
       "\n",
       "    .dataframe thead th {\n",
       "        text-align: right;\n",
       "    }\n",
       "</style>\n",
       "<table border=\"1\" class=\"dataframe\">\n",
       "  <thead>\n",
       "    <tr style=\"text-align: right;\">\n",
       "      <th></th>\n",
       "      <th>user_id</th>\n",
       "      <th>first_date</th>\n",
       "      <th>region</th>\n",
       "      <th>device</th>\n",
       "    </tr>\n",
       "  </thead>\n",
       "  <tbody>\n",
       "    <tr>\n",
       "      <th>0</th>\n",
       "      <td>D72A72121175D8BE</td>\n",
       "      <td>2020-12-07</td>\n",
       "      <td>eu</td>\n",
       "      <td>PC</td>\n",
       "    </tr>\n",
       "    <tr>\n",
       "      <th>1</th>\n",
       "      <td>F1C668619DFE6E65</td>\n",
       "      <td>2020-12-07</td>\n",
       "      <td>n_america</td>\n",
       "      <td>Android</td>\n",
       "    </tr>\n",
       "    <tr>\n",
       "      <th>2</th>\n",
       "      <td>2E1BF1D4C37EA01F</td>\n",
       "      <td>2020-12-07</td>\n",
       "      <td>eu</td>\n",
       "      <td>PC</td>\n",
       "    </tr>\n",
       "    <tr>\n",
       "      <th>3</th>\n",
       "      <td>50734A22C0C63768</td>\n",
       "      <td>2020-12-07</td>\n",
       "      <td>eu</td>\n",
       "      <td>iPhone</td>\n",
       "    </tr>\n",
       "    <tr>\n",
       "      <th>4</th>\n",
       "      <td>E1BDDCE0DAFA2679</td>\n",
       "      <td>2020-12-07</td>\n",
       "      <td>n_america</td>\n",
       "      <td>iPhone</td>\n",
       "    </tr>\n",
       "  </tbody>\n",
       "</table>\n",
       "</div>"
      ],
      "text/plain": [
       "            user_id first_date     region   device\n",
       "0  D72A72121175D8BE 2020-12-07         eu       PC\n",
       "1  F1C668619DFE6E65 2020-12-07  n_america  Android\n",
       "2  2E1BF1D4C37EA01F 2020-12-07         eu       PC\n",
       "3  50734A22C0C63768 2020-12-07         eu   iPhone\n",
       "4  E1BDDCE0DAFA2679 2020-12-07  n_america   iPhone"
      ]
     },
     "execution_count": 17,
     "metadata": {},
     "output_type": "execute_result"
    }
   ],
   "source": [
    "users.head()"
   ]
  },
  {
   "cell_type": "markdown",
   "id": "ed5d4a6a",
   "metadata": {},
   "source": [
    "## User events"
   ]
  },
  {
   "cell_type": "code",
   "execution_count": 18,
   "id": "b875958e",
   "metadata": {},
   "outputs": [
    {
     "data": {
      "text/html": [
       "<div>\n",
       "<style scoped>\n",
       "    .dataframe tbody tr th:only-of-type {\n",
       "        vertical-align: middle;\n",
       "    }\n",
       "\n",
       "    .dataframe tbody tr th {\n",
       "        vertical-align: top;\n",
       "    }\n",
       "\n",
       "    .dataframe thead th {\n",
       "        text-align: right;\n",
       "    }\n",
       "</style>\n",
       "<table border=\"1\" class=\"dataframe\">\n",
       "  <thead>\n",
       "    <tr style=\"text-align: right;\">\n",
       "      <th></th>\n",
       "      <th>user_id</th>\n",
       "      <th>event_dt</th>\n",
       "      <th>event_name</th>\n",
       "      <th>details</th>\n",
       "    </tr>\n",
       "  </thead>\n",
       "  <tbody>\n",
       "    <tr>\n",
       "      <th>0</th>\n",
       "      <td>E1BDDCE0DAFA2679</td>\n",
       "      <td>2020-12-07 20:22:03</td>\n",
       "      <td>purchase</td>\n",
       "      <td>99.99</td>\n",
       "    </tr>\n",
       "    <tr>\n",
       "      <th>1</th>\n",
       "      <td>7B6452F081F49504</td>\n",
       "      <td>2020-12-07 09:22:53</td>\n",
       "      <td>purchase</td>\n",
       "      <td>9.99</td>\n",
       "    </tr>\n",
       "    <tr>\n",
       "      <th>2</th>\n",
       "      <td>9CD9F34546DF254C</td>\n",
       "      <td>2020-12-07 12:59:29</td>\n",
       "      <td>purchase</td>\n",
       "      <td>4.99</td>\n",
       "    </tr>\n",
       "    <tr>\n",
       "      <th>3</th>\n",
       "      <td>96F27A054B191457</td>\n",
       "      <td>2020-12-07 04:02:40</td>\n",
       "      <td>purchase</td>\n",
       "      <td>4.99</td>\n",
       "    </tr>\n",
       "    <tr>\n",
       "      <th>4</th>\n",
       "      <td>1FD7660FDF94CA1F</td>\n",
       "      <td>2020-12-07 10:15:09</td>\n",
       "      <td>purchase</td>\n",
       "      <td>4.99</td>\n",
       "    </tr>\n",
       "  </tbody>\n",
       "</table>\n",
       "</div>"
      ],
      "text/plain": [
       "            user_id             event_dt event_name  details\n",
       "0  E1BDDCE0DAFA2679  2020-12-07 20:22:03   purchase    99.99\n",
       "1  7B6452F081F49504  2020-12-07 09:22:53   purchase     9.99\n",
       "2  9CD9F34546DF254C  2020-12-07 12:59:29   purchase     4.99\n",
       "3  96F27A054B191457  2020-12-07 04:02:40   purchase     4.99\n",
       "4  1FD7660FDF94CA1F  2020-12-07 10:15:09   purchase     4.99"
      ]
     },
     "execution_count": 18,
     "metadata": {},
     "output_type": "execute_result"
    }
   ],
   "source": [
    "events.head()"
   ]
  },
  {
   "cell_type": "code",
   "execution_count": 19,
   "id": "ea6c9c99",
   "metadata": {},
   "outputs": [
    {
     "name": "stdout",
     "output_type": "stream",
     "text": [
      "<class 'pandas.core.frame.DataFrame'>\n",
      "RangeIndex: 423761 entries, 0 to 423760\n",
      "Data columns (total 4 columns):\n",
      " #   Column      Non-Null Count   Dtype  \n",
      "---  ------      --------------   -----  \n",
      " 0   user_id     423761 non-null  object \n",
      " 1   event_dt    423761 non-null  object \n",
      " 2   event_name  423761 non-null  object \n",
      " 3   details     60314 non-null   float64\n",
      "dtypes: float64(1), object(3)\n",
      "memory usage: 12.9+ MB\n"
     ]
    }
   ],
   "source": [
    "events.info()"
   ]
  },
  {
   "cell_type": "code",
   "execution_count": 20,
   "id": "5daaa91a",
   "metadata": {},
   "outputs": [
    {
     "data": {
      "text/plain": [
       "np.int64(0)"
      ]
     },
     "execution_count": 20,
     "metadata": {},
     "output_type": "execute_result"
    }
   ],
   "source": [
    "events.duplicated().sum()"
   ]
  },
  {
   "cell_type": "code",
   "execution_count": 21,
   "id": "3eb6b423",
   "metadata": {},
   "outputs": [
    {
     "data": {
      "text/plain": [
       "60314"
      ]
     },
     "execution_count": 21,
     "metadata": {},
     "output_type": "execute_result"
    }
   ],
   "source": [
    "# Comprobamos que los valores no nulos de details, pertenecen a eventos de tipo 'purchase'\n",
    "len(events[events.event_name == 'purchase'])"
   ]
  },
  {
   "cell_type": "code",
   "execution_count": 22,
   "id": "140af86a",
   "metadata": {},
   "outputs": [
    {
     "data": {
      "text/plain": [
       "array(['product_cart', 'product_page', 'login'], dtype=object)"
      ]
     },
     "execution_count": 22,
     "metadata": {},
     "output_type": "execute_result"
    }
   ],
   "source": [
    "null_details = events[events.details.isnull()]\n",
    "null_details.event_name.unique()\n"
   ]
  },
  {
   "cell_type": "code",
   "execution_count": 23,
   "id": "0b1fe1af",
   "metadata": {},
   "outputs": [
    {
     "data": {
      "text/plain": [
       "event_name\n",
       "login           182465\n",
       "product_page    120862\n",
       "purchase         60314\n",
       "product_cart     60120\n",
       "Name: count, dtype: int64"
      ]
     },
     "execution_count": 23,
     "metadata": {},
     "output_type": "execute_result"
    }
   ],
   "source": [
    "# Frecuencias por evento\n",
    "events.event_name.value_counts()"
   ]
  },
  {
   "cell_type": "code",
   "execution_count": 24,
   "id": "e34d6719",
   "metadata": {},
   "outputs": [
    {
     "name": "stdout",
     "output_type": "stream",
     "text": [
      "<class 'pandas.core.frame.DataFrame'>\n",
      "RangeIndex: 423761 entries, 0 to 423760\n",
      "Data columns (total 4 columns):\n",
      " #   Column      Non-Null Count   Dtype         \n",
      "---  ------      --------------   -----         \n",
      " 0   user_id     423761 non-null  object        \n",
      " 1   event_dt    423761 non-null  datetime64[ns]\n",
      " 2   event_name  423761 non-null  object        \n",
      " 3   details     60314 non-null   float64       \n",
      "dtypes: datetime64[ns](1), float64(1), object(2)\n",
      "memory usage: 12.9+ MB\n"
     ]
    }
   ],
   "source": [
    "# Convertimos columna event_dt a tipo datetime\n",
    "events.event_dt = pd.to_datetime(events.event_dt, errors = 'coerce')\n",
    "events.info()\n"
   ]
  },
  {
   "cell_type": "code",
   "execution_count": 25,
   "id": "8472fdc4",
   "metadata": {},
   "outputs": [
    {
     "data": {
      "text/html": [
       "<div>\n",
       "<style scoped>\n",
       "    .dataframe tbody tr th:only-of-type {\n",
       "        vertical-align: middle;\n",
       "    }\n",
       "\n",
       "    .dataframe tbody tr th {\n",
       "        vertical-align: top;\n",
       "    }\n",
       "\n",
       "    .dataframe thead th {\n",
       "        text-align: right;\n",
       "    }\n",
       "</style>\n",
       "<table border=\"1\" class=\"dataframe\">\n",
       "  <thead>\n",
       "    <tr style=\"text-align: right;\">\n",
       "      <th></th>\n",
       "      <th>user_id</th>\n",
       "      <th>event_dt</th>\n",
       "      <th>event_name</th>\n",
       "      <th>details</th>\n",
       "    </tr>\n",
       "  </thead>\n",
       "  <tbody>\n",
       "    <tr>\n",
       "      <th>0</th>\n",
       "      <td>E1BDDCE0DAFA2679</td>\n",
       "      <td>2020-12-07 20:22:03</td>\n",
       "      <td>purchase</td>\n",
       "      <td>99.99</td>\n",
       "    </tr>\n",
       "    <tr>\n",
       "      <th>1</th>\n",
       "      <td>7B6452F081F49504</td>\n",
       "      <td>2020-12-07 09:22:53</td>\n",
       "      <td>purchase</td>\n",
       "      <td>9.99</td>\n",
       "    </tr>\n",
       "    <tr>\n",
       "      <th>2</th>\n",
       "      <td>9CD9F34546DF254C</td>\n",
       "      <td>2020-12-07 12:59:29</td>\n",
       "      <td>purchase</td>\n",
       "      <td>4.99</td>\n",
       "    </tr>\n",
       "    <tr>\n",
       "      <th>3</th>\n",
       "      <td>96F27A054B191457</td>\n",
       "      <td>2020-12-07 04:02:40</td>\n",
       "      <td>purchase</td>\n",
       "      <td>4.99</td>\n",
       "    </tr>\n",
       "    <tr>\n",
       "      <th>4</th>\n",
       "      <td>1FD7660FDF94CA1F</td>\n",
       "      <td>2020-12-07 10:15:09</td>\n",
       "      <td>purchase</td>\n",
       "      <td>4.99</td>\n",
       "    </tr>\n",
       "  </tbody>\n",
       "</table>\n",
       "</div>"
      ],
      "text/plain": [
       "            user_id            event_dt event_name  details\n",
       "0  E1BDDCE0DAFA2679 2020-12-07 20:22:03   purchase    99.99\n",
       "1  7B6452F081F49504 2020-12-07 09:22:53   purchase     9.99\n",
       "2  9CD9F34546DF254C 2020-12-07 12:59:29   purchase     4.99\n",
       "3  96F27A054B191457 2020-12-07 04:02:40   purchase     4.99\n",
       "4  1FD7660FDF94CA1F 2020-12-07 10:15:09   purchase     4.99"
      ]
     },
     "execution_count": 25,
     "metadata": {},
     "output_type": "execute_result"
    }
   ],
   "source": [
    "events.head()"
   ]
  },
  {
   "cell_type": "markdown",
   "id": "cb8f6f87",
   "metadata": {},
   "source": [
    "## AB data"
   ]
  },
  {
   "cell_type": "code",
   "execution_count": 26,
   "id": "cb1600ab",
   "metadata": {},
   "outputs": [
    {
     "data": {
      "text/html": [
       "<div>\n",
       "<style scoped>\n",
       "    .dataframe tbody tr th:only-of-type {\n",
       "        vertical-align: middle;\n",
       "    }\n",
       "\n",
       "    .dataframe tbody tr th {\n",
       "        vertical-align: top;\n",
       "    }\n",
       "\n",
       "    .dataframe thead th {\n",
       "        text-align: right;\n",
       "    }\n",
       "</style>\n",
       "<table border=\"1\" class=\"dataframe\">\n",
       "  <thead>\n",
       "    <tr style=\"text-align: right;\">\n",
       "      <th></th>\n",
       "      <th>user_id</th>\n",
       "      <th>group</th>\n",
       "      <th>ab_test</th>\n",
       "    </tr>\n",
       "  </thead>\n",
       "  <tbody>\n",
       "    <tr>\n",
       "      <th>0</th>\n",
       "      <td>D1ABA3E2887B6A73</td>\n",
       "      <td>A</td>\n",
       "      <td>recommender_system_test</td>\n",
       "    </tr>\n",
       "    <tr>\n",
       "      <th>1</th>\n",
       "      <td>A7A3664BD6242119</td>\n",
       "      <td>A</td>\n",
       "      <td>recommender_system_test</td>\n",
       "    </tr>\n",
       "    <tr>\n",
       "      <th>2</th>\n",
       "      <td>DABC14FDDFADD29E</td>\n",
       "      <td>A</td>\n",
       "      <td>recommender_system_test</td>\n",
       "    </tr>\n",
       "    <tr>\n",
       "      <th>3</th>\n",
       "      <td>04988C5DF189632E</td>\n",
       "      <td>A</td>\n",
       "      <td>recommender_system_test</td>\n",
       "    </tr>\n",
       "    <tr>\n",
       "      <th>4</th>\n",
       "      <td>4FF2998A348C484F</td>\n",
       "      <td>A</td>\n",
       "      <td>recommender_system_test</td>\n",
       "    </tr>\n",
       "  </tbody>\n",
       "</table>\n",
       "</div>"
      ],
      "text/plain": [
       "            user_id group                  ab_test\n",
       "0  D1ABA3E2887B6A73     A  recommender_system_test\n",
       "1  A7A3664BD6242119     A  recommender_system_test\n",
       "2  DABC14FDDFADD29E     A  recommender_system_test\n",
       "3  04988C5DF189632E     A  recommender_system_test\n",
       "4  4FF2998A348C484F     A  recommender_system_test"
      ]
     },
     "execution_count": 26,
     "metadata": {},
     "output_type": "execute_result"
    }
   ],
   "source": [
    "ab_data.head()"
   ]
  },
  {
   "cell_type": "code",
   "execution_count": 27,
   "id": "1d4b3b93",
   "metadata": {},
   "outputs": [
    {
     "name": "stdout",
     "output_type": "stream",
     "text": [
      "<class 'pandas.core.frame.DataFrame'>\n",
      "RangeIndex: 14525 entries, 0 to 14524\n",
      "Data columns (total 3 columns):\n",
      " #   Column   Non-Null Count  Dtype \n",
      "---  ------   --------------  ----- \n",
      " 0   user_id  14525 non-null  object\n",
      " 1   group    14525 non-null  object\n",
      " 2   ab_test  14525 non-null  object\n",
      "dtypes: object(3)\n",
      "memory usage: 340.6+ KB\n"
     ]
    }
   ],
   "source": [
    "ab_data.info()"
   ]
  },
  {
   "cell_type": "code",
   "execution_count": 28,
   "id": "d78fbd3e",
   "metadata": {},
   "outputs": [
    {
     "data": {
      "text/plain": [
       "np.int64(0)"
      ]
     },
     "execution_count": 28,
     "metadata": {},
     "output_type": "execute_result"
    }
   ],
   "source": [
    "ab_data.duplicated().sum()"
   ]
  },
  {
   "cell_type": "code",
   "execution_count": 29,
   "id": "82bb55b5",
   "metadata": {},
   "outputs": [
    {
     "data": {
      "text/plain": [
       "ab_test\n",
       "interface_eu_test          10850\n",
       "recommender_system_test     3675\n",
       "Name: count, dtype: int64"
      ]
     },
     "execution_count": 29,
     "metadata": {},
     "output_type": "execute_result"
    }
   ],
   "source": [
    "ab_data.ab_test.value_counts()"
   ]
  },
  {
   "cell_type": "code",
   "execution_count": 30,
   "id": "b44a893c",
   "metadata": {},
   "outputs": [
    {
     "data": {
      "text/html": [
       "<div>\n",
       "<style scoped>\n",
       "    .dataframe tbody tr th:only-of-type {\n",
       "        vertical-align: middle;\n",
       "    }\n",
       "\n",
       "    .dataframe tbody tr th {\n",
       "        vertical-align: top;\n",
       "    }\n",
       "\n",
       "    .dataframe thead th {\n",
       "        text-align: right;\n",
       "    }\n",
       "</style>\n",
       "<table border=\"1\" class=\"dataframe\">\n",
       "  <thead>\n",
       "    <tr style=\"text-align: right;\">\n",
       "      <th></th>\n",
       "      <th>user_id</th>\n",
       "      <th>group</th>\n",
       "      <th>ab_test</th>\n",
       "    </tr>\n",
       "  </thead>\n",
       "  <tbody>\n",
       "    <tr>\n",
       "      <th>2664</th>\n",
       "      <td>E26CE7138789A7AF</td>\n",
       "      <td>B</td>\n",
       "      <td>recommender_system_test</td>\n",
       "    </tr>\n",
       "    <tr>\n",
       "      <th>28</th>\n",
       "      <td>76326F7A53D2008C</td>\n",
       "      <td>B</td>\n",
       "      <td>recommender_system_test</td>\n",
       "    </tr>\n",
       "    <tr>\n",
       "      <th>1387</th>\n",
       "      <td>2174C1A128A5B557</td>\n",
       "      <td>A</td>\n",
       "      <td>recommender_system_test</td>\n",
       "    </tr>\n",
       "    <tr>\n",
       "      <th>382</th>\n",
       "      <td>14E1DBBBC0CCBA6D</td>\n",
       "      <td>A</td>\n",
       "      <td>recommender_system_test</td>\n",
       "    </tr>\n",
       "    <tr>\n",
       "      <th>2065</th>\n",
       "      <td>9EC7E3150902029D</td>\n",
       "      <td>A</td>\n",
       "      <td>recommender_system_test</td>\n",
       "    </tr>\n",
       "  </tbody>\n",
       "</table>\n",
       "</div>"
      ],
      "text/plain": [
       "               user_id group                  ab_test\n",
       "2664  E26CE7138789A7AF     B  recommender_system_test\n",
       "28    76326F7A53D2008C     B  recommender_system_test\n",
       "1387  2174C1A128A5B557     A  recommender_system_test\n",
       "382   14E1DBBBC0CCBA6D     A  recommender_system_test\n",
       "2065  9EC7E3150902029D     A  recommender_system_test"
      ]
     },
     "execution_count": 30,
     "metadata": {},
     "output_type": "execute_result"
    }
   ],
   "source": [
    "# Seleccionaremos los usuarios que realizaron la prueba recommender_system_test\n",
    "recomender_system = ab_data[ab_data.ab_test == 'recommender_system_test']\n",
    "recomender_system.sample(5)"
   ]
  },
  {
   "cell_type": "code",
   "execution_count": 31,
   "id": "b48a4656",
   "metadata": {},
   "outputs": [
    {
     "data": {
      "text/plain": [
       "group\n",
       "A    2747\n",
       "B     928\n",
       "Name: count, dtype: int64"
      ]
     },
     "execution_count": 31,
     "metadata": {},
     "output_type": "execute_result"
    }
   ],
   "source": [
    "recomender_system.group.value_counts()"
   ]
  },
  {
   "cell_type": "code",
   "execution_count": 32,
   "id": "332ddbf3",
   "metadata": {},
   "outputs": [
    {
     "data": {
      "text/plain": [
       "np.False_"
      ]
     },
     "execution_count": 32,
     "metadata": {},
     "output_type": "execute_result"
    }
   ],
   "source": [
    "#Checamos si un usuario pertenece a los dos grupos\n",
    "recomender_system.groupby(\"user_id\")[\"group\"].nunique().gt(1).any()\n",
    "# True si hay al menos un usuario en más de un grupo\n"
   ]
  },
  {
   "cell_type": "markdown",
   "id": "0998d3b2",
   "metadata": {},
   "source": [
    "En general no encontramos problemas con la exploración de datos. Sí tuvimos que convertir algunas columnas, las que son de fecha a datetime, pero fueron las únicas.\n",
    "\n",
    "Tampoco encontramos valores nulos, repetios, o usuarios que fueran parte de los dos grupos."
   ]
  },
  {
   "cell_type": "markdown",
   "id": "0f2832c2",
   "metadata": {},
   "source": [
    "## Llevar a cabo el análisis exploratorio de datos:    \n",
    "- Estudia la conversión en las diferentes etapas del embudo.\n",
    "- ¿El número de eventos por usuario está distribuido equitativamente entre las muestras?\n",
    "- ¿Hay usuarios que están presentes en ambas muestras?\n",
    "- ¿Cómo se distribuye el número de eventos entre los días?\n",
    "- ¿Hay alguna peculiaridad en los datos que hay que tener en cuenta antes de iniciar la prueba A/B?"
   ]
  },
  {
   "cell_type": "code",
   "execution_count": 33,
   "id": "490832a9",
   "metadata": {},
   "outputs": [
    {
     "name": "stdout",
     "output_type": "stream",
     "text": [
      "<class 'pandas.core.frame.DataFrame'>\n",
      "RangeIndex: 23909 entries, 0 to 23908\n",
      "Data columns (total 6 columns):\n",
      " #   Column      Non-Null Count  Dtype         \n",
      "---  ------      --------------  -----         \n",
      " 0   user_id     23909 non-null  object        \n",
      " 1   event_dt    23909 non-null  datetime64[ns]\n",
      " 2   event_name  23909 non-null  object        \n",
      " 3   details     3210 non-null   float64       \n",
      " 4   first_date  23909 non-null  datetime64[ns]\n",
      " 5   group       23909 non-null  object        \n",
      "dtypes: datetime64[ns](2), float64(1), object(3)\n",
      "memory usage: 1.1+ MB\n"
     ]
    }
   ],
   "source": [
    "# Haremos un merge con nuestra tablas para tener todo en un mismo data frame\n",
    "\n",
    "users_part = users.merge(\n",
    "    recomender_system[['user_id', 'group']],\n",
    "    on = 'user_id',\n",
    "    how = 'inner'\n",
    ")\n",
    "\n",
    "# Ahora hacemos merge con events\n",
    "events_full = events.merge(\n",
    "    users_part[['user_id', 'first_date', 'group']],\n",
    "    on = 'user_id', \n",
    "    how = 'inner'\n",
    ")\n",
    "\n",
    "events_full.info()"
   ]
  },
  {
   "cell_type": "code",
   "execution_count": 34,
   "id": "adb2e562",
   "metadata": {},
   "outputs": [
    {
     "name": "stdout",
     "output_type": "stream",
     "text": [
      "Eventos antes del filtro: 23909\n",
      "Eventos después del filtro: 23151\n"
     ]
    }
   ],
   "source": [
    "# Filtraremos a los usuarios que tuvieron eventos 14 días despúes de la first_date de eventos\n",
    "# creamos máscara\n",
    "mask = (\n",
    "    (events_full['event_dt'] >= events_full.first_date) & \n",
    "    (events_full.event_dt <= events_full.first_date + pd.Timedelta(days=14))\n",
    ")\n",
    "#aplicamos filtro\n",
    "events_window = events_full[mask].copy()\n",
    "events_window.head()\n",
    "\n",
    "print(\"Eventos antes del filtro:\", events_full.shape[0])\n",
    "print(\"Eventos después del filtro:\", events_window.shape[0])"
   ]
  },
  {
   "cell_type": "code",
   "execution_count": 35,
   "id": "45cf78c1",
   "metadata": {},
   "outputs": [
    {
     "data": {
      "text/plain": [
       "3675"
      ]
     },
     "execution_count": 35,
     "metadata": {},
     "output_type": "execute_result"
    }
   ],
   "source": [
    "# Queremos verificar que todos los usuarios hayan hecho login\n",
    "# Contamos cuántos usuarios únicos tenemos\n",
    "events_window.user_id.nunique()"
   ]
  },
  {
   "cell_type": "code",
   "execution_count": 36,
   "id": "abafba66",
   "metadata": {},
   "outputs": [
    {
     "data": {
      "text/plain": [
       "event_name\n",
       "login           3674\n",
       "product_cart    1079\n",
       "product_page    2303\n",
       "purchase        1128\n",
       "Name: user_id, dtype: int64"
      ]
     },
     "execution_count": 36,
     "metadata": {},
     "output_type": "execute_result"
    }
   ],
   "source": [
    "# Vemos cuántos usuarios únicos hicieron el evento login\n",
    "events_window.groupby('event_name')['user_id'].nunique()"
   ]
  },
  {
   "cell_type": "code",
   "execution_count": 37,
   "id": "0acf81fc",
   "metadata": {},
   "outputs": [
    {
     "name": "stdout",
     "output_type": "stream",
     "text": [
      "            user_id first_date region   device group  has_product_page  \\\n",
      "0  D72A72121175D8BE 2020-12-07     eu       PC     A                 1   \n",
      "1  DD4352CDCF8C3D57 2020-12-07     eu  Android     B                 1   \n",
      "2  831887FE7F2D6CBA 2020-12-07     eu  Android     A                 0   \n",
      "3  4CB179C7F847320B 2020-12-07     eu   iPhone     B                 1   \n",
      "4  29C92313A98B1176 2020-12-07   apac  Android     B                 1   \n",
      "\n",
      "   has_product_cart  has_purchase  \n",
      "0                 0             0  \n",
      "1                 0             0  \n",
      "2                 1             1  \n",
      "3                 0             0  \n",
      "4                 0             0  \n"
     ]
    }
   ],
   "source": [
    "# Construiremos un embudo de las etapas para realizar la conversión en cada etapa\n",
    "\n",
    "# 1) Pivot table: contar eventos por usuario y tipo\n",
    "user_event_counts = events_window.groupby(['user_id','event_name']).size().unstack(fill_value=0)\n",
    "\n",
    "# 2) Crear flags 0/1 para cada etapa del embudo\n",
    "has_page = (user_event_counts.get('product_page', 0) > 0).astype(int).rename('has_product_page')\n",
    "has_cart = (user_event_counts.get('product_cart', 0) > 0).astype(int).rename('has_product_cart')\n",
    "has_purchase = (user_event_counts.get('purchase', 0) > 0).astype(int).rename('has_purchase')\n",
    "\n",
    "# 3) Unir flags en un solo DataFrame\n",
    "flags = pd.concat([has_page, has_cart, has_purchase], axis=1).reset_index()\n",
    "\n",
    "# 4) Unir con info de usuario (grupo y first_date)\n",
    "users_part = users.merge(recomender_system[['user_id','group']], on='user_id', how='inner')\n",
    "df_funnel = users_part.merge(flags, on='user_id', how='left').fillna(0)\n",
    "\n",
    "# Asegurarnos de que los flags sean enteros\n",
    "for c in ['has_product_page','has_product_cart','has_purchase']:\n",
    "    df_funnel[c] = df_funnel[c].astype(int)\n",
    "\n",
    "# 5) Ver primeras filas\n",
    "print(df_funnel.head())\n"
   ]
  },
  {
   "cell_type": "code",
   "execution_count": 38,
   "id": "d8e3c6cf",
   "metadata": {},
   "outputs": [
    {
     "name": "stdout",
     "output_type": "stream",
     "text": [
      "       has_product_page  has_product_cart  has_purchase\n",
      "group                                                  \n",
      "A                 64.80             30.00         31.74\n",
      "B                 56.36             27.48         27.59\n"
     ]
    }
   ],
   "source": [
    "# Calcular la conversión abslouta por grupo\n",
    "\n",
    "funnel_summary = (\n",
    "    df_funnel.groupby(\"group\")[[\"has_product_page\",\"has_product_cart\",\"has_purchase\"]]\n",
    "    .mean()  # promedio de 0/1 = porcentaje de usuarios\n",
    "    .mul(100)  # pasamos a %\n",
    "    .round(2)\n",
    ")\n",
    "print(funnel_summary)\n"
   ]
  },
  {
   "cell_type": "code",
   "execution_count": 39,
   "id": "6bbee6db",
   "metadata": {},
   "outputs": [
    {
     "data": {
      "image/png": "[encoded data removed]",
      "text/plain": [
       "<Figure size 1200x400 with 2 Axes>"
      ]
     },
     "metadata": {},
     "output_type": "display_data"
    }
   ],
   "source": [
    "# Graficamos evolución de cada grupo\n",
    "\n",
    "# etapas en orden\n",
    "stages = [\"has_purchase\", \"has_product_cart\", \"has_product_page\"]\n",
    "stage_labels = [\"Purchase\", \"Cart\", \"Product Page\"]\n",
    "\n",
    "fig, axes = plt.subplots(1, 2, figsize=(12,4), sharey=True)\n",
    "\n",
    "for ax, group in zip(axes, funnel_summary.index):\n",
    "    values = funnel_summary.loc[group, stages]\n",
    "    ax.barh(stage_labels, values, color=\"skyblue\")\n",
    "    ax.set_xlim(0, 100)\n",
    "    ax.set_title(f\"Grupo {group}\")\n",
    "    # anotar porcentajes\n",
    "    for i, v in enumerate(values):\n",
    "        ax.text(v + 1, i, f\"{v:.1f}%\", va=\"center\")\n",
    "\n",
    "fig.suptitle(\"Embudo de conversión por grupo\", fontsize=14)\n",
    "plt.tight_layout()\n",
    "plt.show()\n"
   ]
  },
  {
   "cell_type": "code",
   "execution_count": 40,
   "id": "42967070",
   "metadata": {},
   "outputs": [
    {
     "data": {
      "image/png": "[encoded data removed]",
      "text/plain": [
       "<Figure size 800x400 with 1 Axes>"
      ]
     },
     "metadata": {},
     "output_type": "display_data"
    }
   ],
   "source": [
    "# Graficamos embudo comparando los grupos\n",
    "# etapas en orden\n",
    "stages = [\"has_product_page\", \"has_product_cart\", \"has_purchase\"]\n",
    "stage_labels = [\"Product Page\", \"Cart\", \"Purchase\"]\n",
    "\n",
    "# posiciones para las barras\n",
    "x = np.arange(len(stages))  # 0,1,2\n",
    "width = 0.35  # ancho de cada barra\n",
    "\n",
    "fig, ax = plt.subplots(figsize=(8,4))\n",
    "\n",
    "# barras para cada grupo\n",
    "ax.bar(x - width/2, funnel_summary.loc[\"A\", stages], width, label=\"Grupo A\", color=\"skyblue\")\n",
    "ax.bar(x + width/2, funnel_summary.loc[\"B\", stages], width, label=\"Grupo B\", color=\"lightcoral\")\n",
    "\n",
    "# detalles\n",
    "ax.set_xticks(x)\n",
    "ax.set_xticklabels(stage_labels)\n",
    "ax.set_ylabel(\"Usuarios (%)\")\n",
    "ax.set_title(\"Embudo de conversión comparativo A vs B\")\n",
    "ax.legend()\n",
    "v\n",
    "# anotar valores encima\n",
    "for i, stage in enumerate(stages):\n",
    "    ax.text(i - width/2, funnel_summary.loc[\"A\", stage] + 1, \n",
    "            f\"{funnel_summary.loc['A', stage]:.1f}%\", ha=\"center\", color=\"black\")\n",
    "    ax.text(i + width/2, funnel_summary.loc[\"B\", stage] + 1, \n",
    "            f\"{funnel_summary.loc['B', stage]:.1f}%\", ha=\"center\", color=\"black\")\n",
    "\n",
    "plt.tight_layout()\n",
    "plt.show()\n",
    "\n"
   ]
  },
  {
   "cell_type": "markdown",
   "id": "f2cd5758",
   "metadata": {},
   "source": [
    "Grupo B rinde peor que A en todas las etapas, y muy lejos del +10% esperado.\n",
    "\n",
    "También notamos que los porcentajes de Purchase con mayores que Cart. "
   ]
  },
  {
   "cell_type": "code",
   "execution_count": 41,
   "id": "29d191b7",
   "metadata": {},
   "outputs": [
    {
     "name": "stdout",
     "output_type": "stream",
     "text": [
      "       page→cart %  cart→purchase %\n",
      "group                              \n",
      "A            46.29           105.83\n",
      "B            48.76           100.39\n"
     ]
    }
   ],
   "source": [
    "# Calcular conversión condicional\n",
    "\n",
    "conversion_conditional = (\n",
    "    df_funnel.groupby(\"group\")[[\"has_product_page\",\"has_product_cart\",\"has_purchase\"]]\n",
    "    .apply(lambda g: pd.Series({\n",
    "        \"page→cart %\": (g[\"has_product_cart\"].sum() / g[\"has_product_page\"].sum() * 100).round(2),\n",
    "        \"cart→purchase %\": (g[\"has_purchase\"].sum() / g[\"has_product_cart\"].sum() * 100).round(2),\n",
    "    }))\n",
    ")\n",
    "print(conversion_conditional)\n"
   ]
  },
  {
   "cell_type": "markdown",
   "id": "6494391c",
   "metadata": {},
   "source": [
    "Se detecta que el número de usuarios con purchase supera al de product_cart. \n",
    "\n",
    "Esto sugiere que el evento product_cart no siempre se registra antes de la compra (quizá por un flujo alternativo de ‘compra directa’ o por pérdidas en el log). Esta limitación debe considerarse al interpretar las tasas de conversión."
   ]
  },
  {
   "cell_type": "code",
   "execution_count": 42,
   "id": "55e014b0",
   "metadata": {},
   "outputs": [
    {
     "name": "stdout",
     "output_type": "stream",
     "text": [
      "Usuarios con purchase pero sin cart: 783\n",
      "Porcentaje de compradores sin cart: 69.41%\n"
     ]
    }
   ],
   "source": [
    "# Verificamos cuánto porcentaje de usuarios para a Purchase sin pasar por Cart\n",
    "\n",
    "users_with_cart = set(df_funnel.loc[df_funnel[\"has_product_cart\"] == 1, \"user_id\"])\n",
    "users_with_purchase = set(df_funnel.loc[df_funnel[\"has_purchase\"] == 1, \"user_id\"])\n",
    "\n",
    "purchase_without_cart = users_with_purchase - users_with_cart\n",
    "print(f\"Usuarios con purchase pero sin cart: {len(purchase_without_cart)}\")\n",
    "\n",
    "perc_purchase_without_cart = len(purchase_without_cart) / len(users_with_purchase) * 100\n",
    "print(f\"Porcentaje de compradores sin cart: {perc_purchase_without_cart:.2f}%\")\n",
    "\n"
   ]
  },
  {
   "cell_type": "markdown",
   "id": "e99d19b2",
   "metadata": {},
   "source": [
    "Tenemos un gran porcentaje de usuarios que pasaron a Purchase sin pasar por el evento Cart. 69.41%"
   ]
  },
  {
   "cell_type": "code",
   "execution_count": 43,
   "id": "f4919263",
   "metadata": {},
   "outputs": [
    {
     "name": "stdout",
     "output_type": "stream",
     "text": [
      "                 user_id            event_dt    event_name\n",
      "16422   37E78FED858E7061 2020-12-14 11:14:34      purchase\n",
      "153402  37E78FED858E7061 2020-12-14 11:14:34  product_page\n",
      "291053  37E78FED858E7061 2020-12-14 11:14:34         login\n",
      "22414   37E78FED858E7061 2020-12-16 14:07:31      purchase\n",
      "309100  37E78FED858E7061 2020-12-16 14:07:31         login\n",
      "165393  37E78FED858E7061 2020-12-16 14:07:32  product_page\n",
      "14831   84F840D269A65875 2020-12-14 12:02:53      purchase\n",
      "286253  84F840D269A65875 2020-12-14 12:02:53         login\n",
      "18577   84F840D269A65875 2020-12-15 15:17:06      purchase\n",
      "297394  84F840D269A65875 2020-12-15 15:17:06         login\n",
      "24866   84F840D269A65875 2020-12-17 20:27:25      purchase\n",
      "316371  84F840D269A65875 2020-12-17 20:27:25         login\n",
      "34189   8693A09149596719 2020-12-19 01:49:29      purchase\n",
      "344831  8693A09149596719 2020-12-19 01:49:29         login\n",
      "36607   8693A09149596719 2020-12-20 07:25:15      purchase\n",
      "352192  8693A09149596719 2020-12-20 07:25:15         login\n",
      "60089   8693A09149596719 2020-12-29 21:22:58      purchase\n",
      "423089  8693A09149596719 2020-12-29 21:22:58         login\n"
     ]
    }
   ],
   "source": [
    "# Análizamos el comportamiento de estos usuarios\n",
    "\n",
    "# tomamos 3 usuarios de ejemplo que tienen purchase pero no cart\n",
    "sample_users = list(purchase_without_cart)[:3]\n",
    "\n",
    "# vemos todos sus eventos ordenados\n",
    "sample_flows = (\n",
    "    events[events[\"user_id\"].isin(sample_users)]\n",
    "    .sort_values([\"user_id\",\"event_dt\"])\n",
    ")\n",
    "\n",
    "print(sample_flows[[\"user_id\",\"event_dt\",\"event_name\"]].head(30))\n"
   ]
  },
  {
   "cell_type": "code",
   "execution_count": 44,
   "id": "dbca0a71",
   "metadata": {},
   "outputs": [
    {
     "name": "stdout",
     "output_type": "stream",
     "text": [
      "Eventos con más de un tipo en el mismo segundo: 112588\n"
     ]
    }
   ],
   "source": [
    "dup_events = (\n",
    "    events.groupby([\"user_id\", \"event_dt\"])[\"event_name\"]\n",
    "    .nunique()\n",
    "    .reset_index()\n",
    ")\n",
    "\n",
    "same_time = dup_events[dup_events[\"event_name\"] > 1]\n",
    "print(f\"Eventos con más de un tipo en el mismo segundo: {len(same_time)}\")\n"
   ]
  },
  {
   "cell_type": "markdown",
   "id": "30b9ee17",
   "metadata": {},
   "source": [
    "**Anomalías que vemos:**\n",
    "- Eventos como purchase y login exactamente en el mismo segundo.\n",
    "- Secuencias ilógicas: purchase antes de product_page, o sin cart.\n",
    "\n",
    "**Posibles causas**\n",
    "- Algunos sistemas mandan eventos en paquetes, y al guardarse reciben la misma marca de tiempo, eso hace que parezca que todo pasó a la vez.\n",
    "- Si el timestamp es de “servidor que recibe”, puede no respetar el orden exacto de lo que hizo el usuario.\n",
    "- Puede que purchase se dispare automáticamente cuando se completa una transacción, y el sistema envía un login de confirmación en paralelo.\n",
    "\n",
    "#### Para interpretar la prueba A/B, debemos centrarnos en conversiones absolutas de purchase y product_page"
   ]
  },
  {
   "cell_type": "code",
   "execution_count": 45,
   "id": "6fc30dd6",
   "metadata": {},
   "outputs": [
    {
     "name": "stdout",
     "output_type": "stream",
     "text": [
      "       has_product_page  has_purchase\n",
      "group                                \n",
      "A                 64.80         31.74\n",
      "B                 56.36         27.59\n"
     ]
    }
   ],
   "source": [
    "# calcular porcentaje de usuarios que vieron product_page o hicieron purchase\n",
    "conversion_absoluta = (\n",
    "    df_funnel.groupby(\"group\")[[\"has_product_page\",\"has_purchase\"]]\n",
    "    .mean()  # promedio de 0/1 = porcentaje de usuarios\n",
    "    .mul(100)  # pasar a %\n",
    "    .round(2)\n",
    ")\n",
    "print(conversion_absoluta)\n"
   ]
  },
  {
   "cell_type": "code",
   "execution_count": 46,
   "id": "527e1264",
   "metadata": {},
   "outputs": [
    {
     "data": {
      "image/png": "[encoded data removed]",
      "text/plain": [
       "<Figure size 700x500 with 1 Axes>"
      ]
     },
     "metadata": {},
     "output_type": "display_data"
    }
   ],
   "source": [
    "# Graficamos conversion_absoluta ya calculada\n",
    "\n",
    "# etiquetas y posiciones\n",
    "stages = [\"has_product_page\", \"has_purchase\"]\n",
    "stage_labels = [\"Product Page\", \"Purchase\"]\n",
    "x = np.arange(len(stages))\n",
    "width = 0.35\n",
    "\n",
    "fig, ax = plt.subplots(figsize=(7,5))\n",
    "\n",
    "# barras por grupo\n",
    "ax.bar(x - width/2, conversion_absoluta.loc[\"A\", stages], width, label=\"Grupo A\", color=\"skyblue\")\n",
    "ax.bar(x + width/2, conversion_absoluta.loc[\"B\", stages], width, label=\"Grupo B\", color=\"lightcoral\")\n",
    "\n",
    "# detalles\n",
    "ax.set_xticks(x)\n",
    "ax.set_xticklabels(stage_labels)\n",
    "ax.set_ylabel(\"Usuarios (%)\")\n",
    "ax.set_title(\"Conversiones absolutas por grupo\")\n",
    "ax.legend()\n",
    "\n",
    "# anotar valores encima de cada barra\n",
    "for i, stage in enumerate(stages):\n",
    "    ax.text(i - width/2, conversion_absoluta.loc[\"A\", stage] + 1, f\"{conversion_absoluta.loc['A', stage]:.1f}%\", ha=\"center\")\n",
    "    ax.text(i + width/2, conversion_absoluta.loc[\"B\", stage] + 1, f\"{conversion_absoluta.loc['B', stage]:.1f}%\", ha=\"center\")\n",
    "\n",
    "plt.tight_layout()\n",
    "plt.show()"
   ]
  },
  {
   "cell_type": "markdown",
   "id": "147fb701",
   "metadata": {},
   "source": [
    "El gráfico permite ver de un vistazo que B no alcanzó la mejora esperada, y que el embudo real se basa solo en estas dos etapas."
   ]
  },
  {
   "cell_type": "markdown",
   "id": "6c3f82d6",
   "metadata": {},
   "source": [
    "### Distribución de eventos por usuario"
   ]
  },
  {
   "cell_type": "code",
   "execution_count": 47,
   "id": "3139b01e",
   "metadata": {},
   "outputs": [
    {
     "data": {
      "text/html": [
       "<div>\n",
       "<style scoped>\n",
       "    .dataframe tbody tr th:only-of-type {\n",
       "        vertical-align: middle;\n",
       "    }\n",
       "\n",
       "    .dataframe tbody tr th {\n",
       "        vertical-align: top;\n",
       "    }\n",
       "\n",
       "    .dataframe thead th {\n",
       "        text-align: right;\n",
       "    }\n",
       "</style>\n",
       "<table border=\"1\" class=\"dataframe\">\n",
       "  <thead>\n",
       "    <tr style=\"text-align: right;\">\n",
       "      <th></th>\n",
       "      <th>user_id</th>\n",
       "      <th>group</th>\n",
       "      <th>num_events</th>\n",
       "    </tr>\n",
       "  </thead>\n",
       "  <tbody>\n",
       "    <tr>\n",
       "      <th>0</th>\n",
       "      <td>001064FEAAB631A1</td>\n",
       "      <td>B</td>\n",
       "      <td>6</td>\n",
       "    </tr>\n",
       "    <tr>\n",
       "      <th>1</th>\n",
       "      <td>0010A1C096941592</td>\n",
       "      <td>A</td>\n",
       "      <td>12</td>\n",
       "    </tr>\n",
       "    <tr>\n",
       "      <th>2</th>\n",
       "      <td>00341D8401F0F665</td>\n",
       "      <td>A</td>\n",
       "      <td>2</td>\n",
       "    </tr>\n",
       "    <tr>\n",
       "      <th>3</th>\n",
       "      <td>003DF44D7589BBD4</td>\n",
       "      <td>A</td>\n",
       "      <td>15</td>\n",
       "    </tr>\n",
       "    <tr>\n",
       "      <th>4</th>\n",
       "      <td>00505E15A9D81546</td>\n",
       "      <td>A</td>\n",
       "      <td>5</td>\n",
       "    </tr>\n",
       "  </tbody>\n",
       "</table>\n",
       "</div>"
      ],
      "text/plain": [
       "            user_id group  num_events\n",
       "0  001064FEAAB631A1     B           6\n",
       "1  0010A1C096941592     A          12\n",
       "2  00341D8401F0F665     A           2\n",
       "3  003DF44D7589BBD4     A          15\n",
       "4  00505E15A9D81546     A           5"
      ]
     },
     "execution_count": 47,
     "metadata": {},
     "output_type": "execute_result"
    }
   ],
   "source": [
    "# Contamos los eventos por usuario\n",
    "\n",
    "events_per_user = events_window.groupby(['user_id', 'group'])['event_name'].count().reset_index()\n",
    "events_per_user.rename(columns = {'event_name': 'num_events'}, inplace = True)\n",
    "events_per_user.head()"
   ]
  },
  {
   "cell_type": "code",
   "execution_count": 48,
   "id": "b8b29807",
   "metadata": {},
   "outputs": [
    {
     "data": {
      "image/png": "[encoded data removed]",
      "text/plain": [
       "<Figure size 800x400 with 1 Axes>"
      ]
     },
     "metadata": {},
     "output_type": "display_data"
    }
   ],
   "source": [
    "plt.figure(figsize=(8,4))\n",
    "plt.hist(events_per_user[events_per_user.group==\"A\"][\"num_events\"], bins=25, alpha=0.8, label=\"Grupo A\", color=\"skyblue\")\n",
    "plt.hist(events_per_user[events_per_user.group==\"B\"][\"num_events\"], bins=25, alpha=0.8, label=\"Grupo B\", color=\"lightcoral\")\n",
    "plt.xlabel(\"Número de eventos por usuario\")\n",
    "plt.ylabel(\"Cantidad de usuarios\")\n",
    "plt.title(\"Distribución del número de eventos por usuario\")\n",
    "plt.legend()\n",
    "plt.show()\n"
   ]
  },
  {
   "cell_type": "code",
   "execution_count": 49,
   "id": "18f73ba1",
   "metadata": {},
   "outputs": [
    {
     "data": {
      "text/plain": [
       "<Figure size 600x400 with 0 Axes>"
      ]
     },
     "metadata": {},
     "output_type": "display_data"
    },
    {
     "data": {
      "image/png": "[encoded data removed]",
      "text/plain": [
       "<Figure size 640x480 with 1 Axes>"
      ]
     },
     "metadata": {},
     "output_type": "display_data"
    }
   ],
   "source": [
    "plt.figure(figsize=(6,4))\n",
    "events_per_user.boxplot(column=\"num_events\", by=\"group\", grid=True, patch_artist=True,\n",
    "                        boxprops=dict(facecolor='lightgray'), medianprops=dict(color='red'))\n",
    "plt.ylabel(\"Número de eventos por usuario\")\n",
    "plt.title(\"Distribución de eventos por grupo\")\n",
    "plt.suptitle(\"\")\n",
    "plt.show()\n"
   ]
  },
  {
   "cell_type": "markdown",
   "id": "35cc7792",
   "metadata": {},
   "source": [
    "- En una prueba A/B bien diseñada, la actividad de usuarios debería estar más o menos balanceada entre los grupos, ya que se espera que el split sea aleatorio.\n",
    "\n",
    "- El hecho de que Grupo B sea más pequeño y además menos activo introduce un riesgo:\n",
    "\n",
    "    - La diferencia que vemos en conversiones puede deberse al sesgo de actividad, no al cambio en el embudo de pago.\n",
    "\n",
    "- Esto es una alerta sobre la validez de la prueba."
   ]
  },
  {
   "cell_type": "code",
   "execution_count": 50,
   "id": "8a94bb52",
   "metadata": {},
   "outputs": [
    {
     "data": {
      "image/png": "[encoded data removed]",
      "text/plain": [
       "<Figure size 1200x400 with 1 Axes>"
      ]
     },
     "metadata": {},
     "output_type": "display_data"
    }
   ],
   "source": [
    "# Revisemos cuántos eventos hubo por grupo por día\n",
    "\n",
    "events_per_day_group = (\n",
    "    events_window.groupby([events_window[\"event_dt\"].dt.date, \"group\"])\n",
    "    .size()\n",
    "    .unstack(fill_value=0)\n",
    ")\n",
    "\n",
    "events_per_day_group.plot(kind=\"bar\", stacked=False, figsize=(12,4))\n",
    "plt.ylabel(\"Número de eventos\")\n",
    "plt.title(\"Eventos diarios por grupo (A vs B)\")\n",
    "plt.xticks(rotation=45)\n",
    "plt.tight_layout()\n",
    "plt.show()\n"
   ]
  },
  {
   "cell_type": "markdown",
   "id": "822c244f",
   "metadata": {},
   "source": [
    "#### Lo que vemos en la gráfica\n",
    "\n",
    "##### Grupo A (control)\n",
    "- Mucho más volumen de eventos (ya lo sabíamos, tiene más usuarios).\n",
    "- Entre el 14 y el 20 de diciembre la actividad crece bastante, con un pico máximo el 20 de diciembre.\n",
    "- Después del 24 empieza a estabilizarse o bajar un poco (coincide con vísperas de Navidad).\n",
    "\n",
    "##### Grupo B (Experimento - Nuevo embudo de pago)\n",
    "- Actividad mucho más baja en general (menos usuarios).\n",
    "- Relativamente estable al inicio, sin el mismo crecimiento fuerte que A.\n",
    "- A partir del 21 de diciembre cae, y ya no se recupera."
   ]
  },
  {
   "cell_type": "markdown",
   "id": "35646deb",
   "metadata": {},
   "source": [
    "### Exploración de datos (EDA)\n",
    "1. Conversión en las diferentes etapas del embudo\n",
    "    - Se observa que hay más usuarios que hacen purchase que product_cart.\n",
    "    - Esto indica que no todos los usuarios siguen el embudo esperado product_page → product_cart → purchase.\n",
    "    - Por lo tanto, el análisis de conversiones condicionales no es fiable.\n",
    "    - Nos centramos en conversiones absolutas:\n",
    "        - Grupo A: ~64.8% ven producto, ~31.7% compran.\n",
    "        - Grupo B: ~56.4% ven producto, ~27.6% compran.\n",
    "\n",
    "        Conclusión: Grupo B no logró el +10% esperado en ninguna etapa.\n",
    "\n",
    "2. ¿El número de eventos por usuario está distribuido equitativamente entre las muestras?\n",
    "    - Grupo B tiene menos usuarios y menos eventos por usuario en promedio.\n",
    "    - El boxplot mostró que el rango intercuartílico de B está por debajo del de A.\n",
    "    - Ambos grupos tienen outliers (usuarios con muchos eventos).\n",
    "\n",
    "        Conclusión: hay una desigualdad de actividad entre grupos, lo cual puede sesgar la prueba.\n",
    "\n",
    "3. ¿Hay usuarios que están presentes en ambas muestras?\n",
    "    - No.\n",
    "    - Confirmamos que cada usuario pertenece a un único grupo (A o B).\n",
    "\n",
    "        Conclusión: no hay contaminación entre grupos.\n",
    "\n",
    "4. ¿Cómo se distribuye el número de eventos entre los días?\n",
    "    - Grupo A crece en actividad entre el 14 y el 20 de diciembre, con un pico máximo el 20.\n",
    "    - Grupo B se mantiene más estable al inicio, pero su actividad cae después del 21 de diciembre.\n",
    "        Conclusión: hay peculiaridades temporales que pueden estar relacionadas con la finalización del reclutamiento de usuarios y con la temporada navideña.\n",
    "\n",
    "5. ¿Hay alguna peculiaridad en los datos que considerar antes de la prueba A/B?\n",
    "    -   Sí, varias:\n",
    "        - Eventos simultáneos (purchase y login en el mismo segundo).\n",
    "        - Saltos de embudo (compras sin carrito).\n",
    "        - Grupo B más pequeño y menos activo.\n",
    "        - Diferencias en la actividad diaria entre A y B.\n",
    "\n",
    "    ➡️ Todo esto implica que la prueba no está perfectamente balanceada y sus resultados deben interpretarse con precaución."
   ]
  },
  {
   "cell_type": "code",
   "execution_count": null,
   "id": "39fc4f88",
   "metadata": {},
   "outputs": [
    {
     "name": "stdout",
     "output_type": "stream",
     "text": [
      "Usuarios en grupo A: 2747  | product_page: 1780  | purchase: 872\n",
      "Usuarios en grupo B: 928  | product_page: 523  | purchase: 256\n",
      "\n",
      "Product Page → z = 4.595797095745397 p-value = 4.310980554712425e-06\n",
      "\n",
      "Purchase → z = 2.3740870442615747 p-value = 0.017592402663314678\n"
     ]
    }
   ],
   "source": [
    "# --- Totales de usuarios en cada grupo ---\n",
    "n_A = df_funnel[df_funnel.group==\"A\"].shape[0]\n",
    "n_B = df_funnel[df_funnel.group==\"B\"].shape[0]\n",
    "\n",
    "# --- Usuarios que llegaron a product_page ---\n",
    "x_A_page = df_funnel[df_funnel.group==\"A\"][\"has_product_page\"].sum()\n",
    "x_B_page = df_funnel[df_funnel.group==\"B\"][\"has_product_page\"].sum()\n",
    "\n",
    "# --- Usuarios que hicieron purchase ---\n",
    "x_A_purchase = df_funnel[df_funnel.group==\"A\"][\"has_purchase\"].sum()\n",
    "x_B_purchase = df_funnel[df_funnel.group==\"B\"][\"has_purchase\"].sum()\n",
    "\n",
    "print(\"Usuarios en grupo A:\", n_A, \" | product_page:\", x_A_page, \" | purchase:\", x_A_purchase)\n",
    "print(\"Usuarios en grupo B:\", n_B, \" | product_page:\", x_B_page, \" | purchase:\", x_B_purchase)\n",
    "\n",
    "# --- Prueba Z: Product Page ---\n",
    "count_page = np.array([x_A_page, x_B_page])\n",
    "nobs_page = np.array([n_A, n_B])\n",
    "stat_page, pval_page = proportions_ztest(count_page, nobs_page)\n",
    "print(\"\\nProduct Page → z =\", stat_page, \"p-value =\", pval_page)\n",
    "\n",
    "# --- Prueba Z: Purchase ---\n",
    "count_purchase = np.array([x_A_purchase, x_B_purchase])\n",
    "nobs_purchase = np.array([n_A, n_B])\n",
    "stat_purchase, pval_purchase = proportions_ztest(count_purchase, nobs_purchase)\n",
    "print(\"\\nPurchase → z =\", stat_purchase, \"p-value =\", pval_purchase)\n"
   ]
  },
  {
   "cell_type": "markdown",
   "id": "7a932e92",
   "metadata": {},
   "source": [
    "# 📊 Informe de resultados – Prueba A/B  \n",
    "**Nombre de la prueba:** `recommender_system_test`  \n",
    "**Grupos:** A (control) vs B (nuevo embudo de pago)  \n",
    "**Periodo:** 2020-12-07 → 2021-01-01  \n",
    "**Objetivo esperado:** +10% en conversión en cada etapa del embudo (`product_page → product_cart → purchase`).  \n",
    "\n",
    "---\n",
    "\n",
    "## 🔍 1. Exploración de datos (EDA)\n",
    "\n",
    "1. **Integridad de los datos**\n",
    "   - No hay usuarios duplicados entre grupos (cada `user_id` pertenece a un solo grupo).  \n",
    "   - Se detectaron comportamientos atípicos: usuarios con eventos de `purchase` sin haber registrado `product_cart`. (~70% de los compradores no pasaron por `cart`).\n",
    "\n",
    "2. **Distribución de usuarios**\n",
    "   - Grupo A: 2747 usuarios.  \n",
    "   - Grupo B: 928 usuarios.  \n",
    "   - El experimento no tuvo grupos balanceados: **A fue casi 3 veces mayor que B**.  \n",
    "\n",
    "3. **Eventos en el tiempo**\n",
    "   - Grupo A mostró un **aumento progresivo de eventos** entre el 14 y 20 de diciembre (pico el 20/12).  \n",
    "   - Grupo B se mantuvo más estable y **cayó en actividad tras el 21 de diciembre** (fecha en que se dejó de aceptar nuevos usuarios).  \n",
    "   - Esto introduce una **peculiaridad temporal** que pudo sesgar los resultados.  \n",
    "\n",
    "---\n",
    "\n",
    "## 🔍 2. Conversión en el embudo\n",
    "\n",
    "- Conversión absoluta (usuarios que alcanzaron cada etapa):  \n",
    "\n",
    "| Grupo | Product Page | Product Cart | Purchase |\n",
    "|-------|--------------|--------------|----------|\n",
    "| A     | 64.8%        | 30.0%        | 31.7%    |\n",
    "| B     | 56.4%        | 27.5%        | 27.6%    |\n",
    "\n",
    "- Conversión condicional (paso a paso en el funnel):  \n",
    "\n",
    "| Grupo | Page → Cart | Cart → Purchase |\n",
    "|-------|-------------|-----------------|\n",
    "| A     | 46.3%       | 105.8%*         |\n",
    "| B     | 48.8%       | 100.4%*         |\n",
    "\n",
    "\\* >100% porque muchos usuarios compraron sin pasar por `cart`.  \n",
    "\n",
    "---\n",
    "\n",
    "## 🔍 3. Prueba estadística (Z-test de proporciones)\n",
    "\n",
    "- **Product Page:**  \n",
    "  - A: 1780/2747 (64.8%) vs B: 523/928 (56.4%).  \n",
    "  - z = 4.60, p ≈ 0.000004 → diferencia significativa.  \n",
    "\n",
    "- **Purchase:**  \n",
    "  - A: 872/2747 (31.7%) vs B: 256/928 (27.6%).  \n",
    "  - z = 2.37, p ≈ 0.018 → diferencia significativa.  \n",
    "\n",
    "---\n",
    "\n",
    "## ✅ Conclusiones\n",
    "\n",
    "1. **No se alcanzó el objetivo de negocio** (+10% de mejora en cada etapa del funnel).  \n",
    "   - El grupo B tuvo menor conversión absoluta en todas las etapas frente a A.  \n",
    "\n",
    "2. **Las diferencias entre A y B son estadísticamente significativas**, pero en dirección negativa: **B rinde peor que A**.  \n",
    "\n",
    "3. **Peculiaridades en los datos**:\n",
    "   - Muchos usuarios registran `purchase` sin `cart`, lo cual distorsiona el embudo.  \n",
    "   - El grupo B tuvo menos usuarios y menor actividad tras el 21/12, lo que puede afectar la validez de la comparación.  \n",
    "\n",
    "---\n",
    "\n",
    "## 📌 Recomendación\n",
    "- No implementar el nuevo embudo de pago (grupo B) en producción, ya que no mejora la conversión y, de hecho, la reduce.  \n",
    "- Revisar el **tracking de eventos**, especialmente `product_cart`, para asegurar consistencia en futuros experimentos.  \n",
    "- Planear futuros A/B tests con **grupos balanceados en tamaño** y **períodos de exposición equivalentes** para evitar sesgos temporales.  \n"
   ]
  }
 ],
 "metadata": {
  "kernelspec": {
   "display_name": "analisis",
   "language": "python",
   "name": "python3"
  },
  "language_info": {
   "codemirror_mode": {
    "name": "ipython",
    "version": 3
   },
   "file_extension": ".py",
   "mimetype": "text/x-python",
   "name": "python",
   "nbconvert_exporter": "python",
   "pygments_lexer": "ipython3",
   "version": "3.11.11"
  }
 },
 "nbformat": 4,
 "nbformat_minor": 5
}
