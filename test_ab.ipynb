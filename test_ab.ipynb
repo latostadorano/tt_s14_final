{
 "cells": [
  {
   "cell_type": "markdown",
   "id": "d999c0e8",
   "metadata": {},
   "source": [
    "# Recommender system test\n",
    "\n",
    "### Propósito de la prueba:\n",
    "Probar cambios relacionados con la introducción de un sistema de recomendaciones mejorado\n",
    "\n",
    "### Resultado esperado: \n",
    "Dentro de los 14 días posteriores a la inscripción, los usuarios mostrarán una mejor conversión en vistas de la página del producto (el evento **product_page**), instancias de agregar artículos al carrito de compras (**product_cart**) y compras (**purchase**). En cada etapa del embudo **product_page → product_cart → purchase**, habrá al menos un 10% de aumento."
   ]
  },
  {
   "cell_type": "markdown",
   "id": "754558cd",
   "metadata": {},
   "source": [
    "## Instrucciones para completar la tarea\n",
    "\n",
    "- Describe los objetivos del estudio.\n",
    "- Explora los datos:\n",
    "    - ¿Es necesario convertir los tipos?\n",
    "    - ¿Hay valores ausentes o duplicados? Si es así, ¿cómo los caracterizarías?\n",
    "- Lleva a cabo el análisis exploratorio de datos:\n",
    "    - Estudia la conversión en las diferentes etapas del embudo.\n",
    "    - ¿El número de eventos por usuario está distribuido equitativamente entre las muestras?\n",
    "    - ¿Hay usuarios que están presentes en ambas muestras?\n",
    "    - ¿Cómo se distribuye el número de eventos entre los días?\n",
    "    - ¿Hay alguna peculiaridad en los datos que hay que tener en cuenta antes de iniciar la prueba A/B?\n",
    "- Evaluar los resultados de la prueba A/B:\n",
    "    - ¿Qué puedes decir sobre los resultados de la prueba A/B?\n",
    "    - Utiliza una prueba z para comprobar la diferencia estadística entre las proporciones\n",
    "- Describe tus conclusiones con respecto a la etapa EDA y los resultados de la prueba A/B"
   ]
  },
  {
   "cell_type": "markdown",
   "id": "3432a015",
   "metadata": {},
   "source": [
    "## Describir los objetivos del estudio\n",
    "\n",
    "Comprobaremos si los usuarios mostraron una mejor conversión en vistas de la página del pruducto (product_page), instancias de agregar artículos al carrito de compras (product_card) y compras (purchase). En cada etapa del embudo product_page → product_card → purchase, habrá al menos un 10% de aumento."
   ]
  },
  {
   "cell_type": "code",
   "execution_count": 96,
   "id": "f361271b",
   "metadata": {},
   "outputs": [],
   "source": [
    "import pandas as pd \n",
    "import numpy as np \n",
    "import matplotlib.pyplot as plt\n",
    "from sklearn.preprocessing import MultiLabelBinarizer\n",
    "import re"
   ]
  },
  {
   "cell_type": "markdown",
   "id": "947e5e91",
   "metadata": {},
   "source": [
    "## Exploración de datos"
   ]
  },
  {
   "cell_type": "code",
   "execution_count": 97,
   "id": "31ff7c5e",
   "metadata": {},
   "outputs": [
    {
     "name": "stdout",
     "output_type": "stream",
     "text": [
      "---\n",
      "                name    regions    start_dt   finish_dt\n",
      "4  4th of July Promo  N.America  2020-07-04  2020-07-11\n",
      "\n",
      "---\n",
      "                user_id  first_date region device\n",
      "32641  ECF6CD90FA87B85F  2020-12-10   APAC     PC\n",
      "\n",
      "---\n",
      "                user_id             event_dt event_name  details\n",
      "56303  39562642B5A0341E  2020-12-27 10:26:50   purchase     4.99\n",
      "\n",
      "---\n",
      "               user_id group                  ab_test\n",
      "1022  E2E336528AB6202A     B  recommender_system_test\n",
      "\n"
     ]
    }
   ],
   "source": [
    "mkt_events = pd.read_csv('datasets/ab_project_marketing_events_us.csv')\n",
    "users = pd.read_csv('datasets/final_ab_new_users_upd_us.csv')\n",
    "events = pd.read_csv('datasets/final_ab_events_upd_us.csv')\n",
    "ab_data = pd.read_csv('datasets/final_ab_participants_upd_us.csv')\n",
    "\n",
    "datas = [mkt_events, users, events, ab_data]\n",
    "\n",
    "for data in datas: \n",
    "    print('---')\n",
    "    print(data.sample())\n",
    "    print()"
   ]
  },
  {
   "cell_type": "markdown",
   "id": "728eae94",
   "metadata": {},
   "source": [
    "## MKT events"
   ]
  },
  {
   "cell_type": "code",
   "execution_count": 98,
   "id": "d7b84b15",
   "metadata": {},
   "outputs": [
    {
     "data": {
      "text/html": [
       "<div>\n",
       "<style scoped>\n",
       "    .dataframe tbody tr th:only-of-type {\n",
       "        vertical-align: middle;\n",
       "    }\n",
       "\n",
       "    .dataframe tbody tr th {\n",
       "        vertical-align: top;\n",
       "    }\n",
       "\n",
       "    .dataframe thead th {\n",
       "        text-align: right;\n",
       "    }\n",
       "</style>\n",
       "<table border=\"1\" class=\"dataframe\">\n",
       "  <thead>\n",
       "    <tr style=\"text-align: right;\">\n",
       "      <th></th>\n",
       "      <th>name</th>\n",
       "      <th>regions</th>\n",
       "      <th>start_dt</th>\n",
       "      <th>finish_dt</th>\n",
       "    </tr>\n",
       "  </thead>\n",
       "  <tbody>\n",
       "    <tr>\n",
       "      <th>0</th>\n",
       "      <td>Christmas&amp;New Year Promo</td>\n",
       "      <td>EU, N.America</td>\n",
       "      <td>2020-12-25</td>\n",
       "      <td>2021-01-03</td>\n",
       "    </tr>\n",
       "    <tr>\n",
       "      <th>1</th>\n",
       "      <td>St. Valentine's Day Giveaway</td>\n",
       "      <td>EU, CIS, APAC, N.America</td>\n",
       "      <td>2020-02-14</td>\n",
       "      <td>2020-02-16</td>\n",
       "    </tr>\n",
       "    <tr>\n",
       "      <th>2</th>\n",
       "      <td>St. Patric's Day Promo</td>\n",
       "      <td>EU, N.America</td>\n",
       "      <td>2020-03-17</td>\n",
       "      <td>2020-03-19</td>\n",
       "    </tr>\n",
       "    <tr>\n",
       "      <th>3</th>\n",
       "      <td>Easter Promo</td>\n",
       "      <td>EU, CIS, APAC, N.America</td>\n",
       "      <td>2020-04-12</td>\n",
       "      <td>2020-04-19</td>\n",
       "    </tr>\n",
       "    <tr>\n",
       "      <th>4</th>\n",
       "      <td>4th of July Promo</td>\n",
       "      <td>N.America</td>\n",
       "      <td>2020-07-04</td>\n",
       "      <td>2020-07-11</td>\n",
       "    </tr>\n",
       "  </tbody>\n",
       "</table>\n",
       "</div>"
      ],
      "text/plain": [
       "                           name                   regions    start_dt  \\\n",
       "0      Christmas&New Year Promo             EU, N.America  2020-12-25   \n",
       "1  St. Valentine's Day Giveaway  EU, CIS, APAC, N.America  2020-02-14   \n",
       "2        St. Patric's Day Promo             EU, N.America  2020-03-17   \n",
       "3                  Easter Promo  EU, CIS, APAC, N.America  2020-04-12   \n",
       "4             4th of July Promo                 N.America  2020-07-04   \n",
       "\n",
       "    finish_dt  \n",
       "0  2021-01-03  \n",
       "1  2020-02-16  \n",
       "2  2020-03-19  \n",
       "3  2020-04-19  \n",
       "4  2020-07-11  "
      ]
     },
     "execution_count": 98,
     "metadata": {},
     "output_type": "execute_result"
    }
   ],
   "source": [
    "mkt_events.head()"
   ]
  },
  {
   "cell_type": "code",
   "execution_count": 99,
   "id": "c222ca22",
   "metadata": {},
   "outputs": [
    {
     "name": "stdout",
     "output_type": "stream",
     "text": [
      "<class 'pandas.core.frame.DataFrame'>\n",
      "RangeIndex: 14 entries, 0 to 13\n",
      "Data columns (total 4 columns):\n",
      " #   Column     Non-Null Count  Dtype \n",
      "---  ------     --------------  ----- \n",
      " 0   name       14 non-null     object\n",
      " 1   regions    14 non-null     object\n",
      " 2   start_dt   14 non-null     object\n",
      " 3   finish_dt  14 non-null     object\n",
      "dtypes: object(4)\n",
      "memory usage: 580.0+ bytes\n"
     ]
    }
   ],
   "source": [
    "mkt_events.info()"
   ]
  },
  {
   "cell_type": "code",
   "execution_count": 100,
   "id": "78b023a5",
   "metadata": {},
   "outputs": [
    {
     "data": {
      "text/html": [
       "<div>\n",
       "<style scoped>\n",
       "    .dataframe tbody tr th:only-of-type {\n",
       "        vertical-align: middle;\n",
       "    }\n",
       "\n",
       "    .dataframe tbody tr th {\n",
       "        vertical-align: top;\n",
       "    }\n",
       "\n",
       "    .dataframe thead th {\n",
       "        text-align: right;\n",
       "    }\n",
       "</style>\n",
       "<table border=\"1\" class=\"dataframe\">\n",
       "  <thead>\n",
       "    <tr style=\"text-align: right;\">\n",
       "      <th></th>\n",
       "      <th>name</th>\n",
       "      <th>regions</th>\n",
       "      <th>start_dt</th>\n",
       "      <th>finish_dt</th>\n",
       "    </tr>\n",
       "  </thead>\n",
       "  <tbody>\n",
       "    <tr>\n",
       "      <th>count</th>\n",
       "      <td>14</td>\n",
       "      <td>14</td>\n",
       "      <td>14</td>\n",
       "      <td>14</td>\n",
       "    </tr>\n",
       "    <tr>\n",
       "      <th>unique</th>\n",
       "      <td>14</td>\n",
       "      <td>6</td>\n",
       "      <td>14</td>\n",
       "      <td>14</td>\n",
       "    </tr>\n",
       "    <tr>\n",
       "      <th>top</th>\n",
       "      <td>Christmas&amp;New Year Promo</td>\n",
       "      <td>APAC</td>\n",
       "      <td>2020-12-25</td>\n",
       "      <td>2021-01-03</td>\n",
       "    </tr>\n",
       "    <tr>\n",
       "      <th>freq</th>\n",
       "      <td>1</td>\n",
       "      <td>4</td>\n",
       "      <td>1</td>\n",
       "      <td>1</td>\n",
       "    </tr>\n",
       "  </tbody>\n",
       "</table>\n",
       "</div>"
      ],
      "text/plain": [
       "                            name regions    start_dt   finish_dt\n",
       "count                         14      14          14          14\n",
       "unique                        14       6          14          14\n",
       "top     Christmas&New Year Promo    APAC  2020-12-25  2021-01-03\n",
       "freq                           1       4           1           1"
      ]
     },
     "execution_count": 100,
     "metadata": {},
     "output_type": "execute_result"
    }
   ],
   "source": [
    "mkt_events.describe()"
   ]
  },
  {
   "cell_type": "code",
   "execution_count": 101,
   "id": "dceeda88",
   "metadata": {},
   "outputs": [
    {
     "name": "stdout",
     "output_type": "stream",
     "text": [
      "<class 'pandas.core.frame.DataFrame'>\n",
      "RangeIndex: 14 entries, 0 to 13\n",
      "Data columns (total 4 columns):\n",
      " #   Column     Non-Null Count  Dtype         \n",
      "---  ------     --------------  -----         \n",
      " 0   name       14 non-null     object        \n",
      " 1   regions    14 non-null     object        \n",
      " 2   start_dt   14 non-null     datetime64[ns]\n",
      " 3   finish_dt  14 non-null     datetime64[ns]\n",
      "dtypes: datetime64[ns](2), object(2)\n",
      "memory usage: 580.0+ bytes\n"
     ]
    }
   ],
   "source": [
    "# Convertimos columnas de fecha a datetime\n",
    "\n",
    "date_cols = ['start_dt', 'finish_dt']\n",
    "for date in date_cols: \n",
    "    mkt_events[date] = pd.to_datetime(mkt_events[date], errors = 'coerce')\n",
    "\n",
    "mkt_events.info()"
   ]
  },
  {
   "cell_type": "code",
   "execution_count": 102,
   "id": "2a2ecf96",
   "metadata": {},
   "outputs": [
    {
     "data": {
      "text/plain": [
       "np.int64(0)"
      ]
     },
     "execution_count": 102,
     "metadata": {},
     "output_type": "execute_result"
    }
   ],
   "source": [
    "# Buscamos duplicados\n",
    "\n",
    "mkt_events.duplicated().sum()"
   ]
  },
  {
   "cell_type": "code",
   "execution_count": 103,
   "id": "7fae1e63",
   "metadata": {},
   "outputs": [],
   "source": [
    "# Convertimos categorías a columnas binarias\n",
    "\n",
    "def normalize_region_name(name: str) -> str:\n",
    "    \"\"\"\n",
    "    Normaliza el nombre de región:\n",
    "    - lower()\n",
    "    - quita corchetes\n",
    "    - reemplaza espacios, puntos y comas por \"_\"\n",
    "    - elimina dobles guiones bajos\n",
    "    \"\"\"\n",
    "    name = name.lower()\n",
    "    name = re.sub(r\"[\\[\\]]\", \"\", name)         # quita corchetes\n",
    "    name = re.sub(r\"[ ,.\\-]+\", \"_\", name)      # reemplaza separadores por \"_\"\n",
    "    name = re.sub(r\"_+\", \"_\", name)            # colapsa guiones bajos\n",
    "    return name.strip(\"_\")                     # elimina guiones bajos extremos\n",
    "\n",
    "def expand_regions(df, col=\"regions\", sep=\",\"):\n",
    "    # Dividir en listas, manejando NaN\n",
    "    regions = df[col].fillna(\"\").apply(\n",
    "        lambda x: [normalize_region_name(r.strip()) for r in str(x).split(sep) if r.strip()]\n",
    "    )\n",
    "    \n",
    "    # Crear binarizador\n",
    "    mlb = MultiLabelBinarizer()\n",
    "    dummies = pd.DataFrame(\n",
    "        mlb.fit_transform(regions),\n",
    "        index=df.index,\n",
    "        columns=mlb.classes_\n",
    "    )\n",
    "    \n",
    "    # Unir al df original\n",
    "    return df.join(dummies)\n",
    "\n",
    "mkt_events = expand_regions(mkt_events)"
   ]
  },
  {
   "cell_type": "code",
   "execution_count": 104,
   "id": "e3a708ce",
   "metadata": {},
   "outputs": [
    {
     "data": {
      "text/html": [
       "<div>\n",
       "<style scoped>\n",
       "    .dataframe tbody tr th:only-of-type {\n",
       "        vertical-align: middle;\n",
       "    }\n",
       "\n",
       "    .dataframe tbody tr th {\n",
       "        vertical-align: top;\n",
       "    }\n",
       "\n",
       "    .dataframe thead th {\n",
       "        text-align: right;\n",
       "    }\n",
       "</style>\n",
       "<table border=\"1\" class=\"dataframe\">\n",
       "  <thead>\n",
       "    <tr style=\"text-align: right;\">\n",
       "      <th></th>\n",
       "      <th>name</th>\n",
       "      <th>regions</th>\n",
       "      <th>start_dt</th>\n",
       "      <th>finish_dt</th>\n",
       "      <th>apac</th>\n",
       "      <th>cis</th>\n",
       "      <th>eu</th>\n",
       "      <th>n_america</th>\n",
       "    </tr>\n",
       "  </thead>\n",
       "  <tbody>\n",
       "    <tr>\n",
       "      <th>0</th>\n",
       "      <td>Christmas&amp;New Year Promo</td>\n",
       "      <td>EU, N.America</td>\n",
       "      <td>2020-12-25</td>\n",
       "      <td>2021-01-03</td>\n",
       "      <td>0</td>\n",
       "      <td>0</td>\n",
       "      <td>1</td>\n",
       "      <td>1</td>\n",
       "    </tr>\n",
       "    <tr>\n",
       "      <th>1</th>\n",
       "      <td>St. Valentine's Day Giveaway</td>\n",
       "      <td>EU, CIS, APAC, N.America</td>\n",
       "      <td>2020-02-14</td>\n",
       "      <td>2020-02-16</td>\n",
       "      <td>1</td>\n",
       "      <td>1</td>\n",
       "      <td>1</td>\n",
       "      <td>1</td>\n",
       "    </tr>\n",
       "    <tr>\n",
       "      <th>2</th>\n",
       "      <td>St. Patric's Day Promo</td>\n",
       "      <td>EU, N.America</td>\n",
       "      <td>2020-03-17</td>\n",
       "      <td>2020-03-19</td>\n",
       "      <td>0</td>\n",
       "      <td>0</td>\n",
       "      <td>1</td>\n",
       "      <td>1</td>\n",
       "    </tr>\n",
       "    <tr>\n",
       "      <th>3</th>\n",
       "      <td>Easter Promo</td>\n",
       "      <td>EU, CIS, APAC, N.America</td>\n",
       "      <td>2020-04-12</td>\n",
       "      <td>2020-04-19</td>\n",
       "      <td>1</td>\n",
       "      <td>1</td>\n",
       "      <td>1</td>\n",
       "      <td>1</td>\n",
       "    </tr>\n",
       "    <tr>\n",
       "      <th>4</th>\n",
       "      <td>4th of July Promo</td>\n",
       "      <td>N.America</td>\n",
       "      <td>2020-07-04</td>\n",
       "      <td>2020-07-11</td>\n",
       "      <td>0</td>\n",
       "      <td>0</td>\n",
       "      <td>0</td>\n",
       "      <td>1</td>\n",
       "    </tr>\n",
       "    <tr>\n",
       "      <th>5</th>\n",
       "      <td>Black Friday Ads Campaign</td>\n",
       "      <td>EU, CIS, APAC, N.America</td>\n",
       "      <td>2020-11-26</td>\n",
       "      <td>2020-12-01</td>\n",
       "      <td>1</td>\n",
       "      <td>1</td>\n",
       "      <td>1</td>\n",
       "      <td>1</td>\n",
       "    </tr>\n",
       "    <tr>\n",
       "      <th>6</th>\n",
       "      <td>Chinese New Year Promo</td>\n",
       "      <td>APAC</td>\n",
       "      <td>2020-01-25</td>\n",
       "      <td>2020-02-07</td>\n",
       "      <td>1</td>\n",
       "      <td>0</td>\n",
       "      <td>0</td>\n",
       "      <td>0</td>\n",
       "    </tr>\n",
       "    <tr>\n",
       "      <th>7</th>\n",
       "      <td>Labor day (May 1st) Ads Campaign</td>\n",
       "      <td>EU, CIS, APAC</td>\n",
       "      <td>2020-05-01</td>\n",
       "      <td>2020-05-03</td>\n",
       "      <td>1</td>\n",
       "      <td>1</td>\n",
       "      <td>1</td>\n",
       "      <td>0</td>\n",
       "    </tr>\n",
       "    <tr>\n",
       "      <th>8</th>\n",
       "      <td>International Women's Day Promo</td>\n",
       "      <td>EU, CIS, APAC</td>\n",
       "      <td>2020-03-08</td>\n",
       "      <td>2020-03-10</td>\n",
       "      <td>1</td>\n",
       "      <td>1</td>\n",
       "      <td>1</td>\n",
       "      <td>0</td>\n",
       "    </tr>\n",
       "    <tr>\n",
       "      <th>9</th>\n",
       "      <td>Victory Day CIS (May 9th) Event</td>\n",
       "      <td>CIS</td>\n",
       "      <td>2020-05-09</td>\n",
       "      <td>2020-05-11</td>\n",
       "      <td>0</td>\n",
       "      <td>1</td>\n",
       "      <td>0</td>\n",
       "      <td>0</td>\n",
       "    </tr>\n",
       "    <tr>\n",
       "      <th>10</th>\n",
       "      <td>CIS New Year Gift Lottery</td>\n",
       "      <td>CIS</td>\n",
       "      <td>2020-12-30</td>\n",
       "      <td>2021-01-07</td>\n",
       "      <td>0</td>\n",
       "      <td>1</td>\n",
       "      <td>0</td>\n",
       "      <td>0</td>\n",
       "    </tr>\n",
       "    <tr>\n",
       "      <th>11</th>\n",
       "      <td>Dragon Boat Festival Giveaway</td>\n",
       "      <td>APAC</td>\n",
       "      <td>2020-06-25</td>\n",
       "      <td>2020-07-01</td>\n",
       "      <td>1</td>\n",
       "      <td>0</td>\n",
       "      <td>0</td>\n",
       "      <td>0</td>\n",
       "    </tr>\n",
       "    <tr>\n",
       "      <th>12</th>\n",
       "      <td>Single's Day Gift Promo</td>\n",
       "      <td>APAC</td>\n",
       "      <td>2020-11-11</td>\n",
       "      <td>2020-11-12</td>\n",
       "      <td>1</td>\n",
       "      <td>0</td>\n",
       "      <td>0</td>\n",
       "      <td>0</td>\n",
       "    </tr>\n",
       "    <tr>\n",
       "      <th>13</th>\n",
       "      <td>Chinese Moon Festival</td>\n",
       "      <td>APAC</td>\n",
       "      <td>2020-10-01</td>\n",
       "      <td>2020-10-07</td>\n",
       "      <td>1</td>\n",
       "      <td>0</td>\n",
       "      <td>0</td>\n",
       "      <td>0</td>\n",
       "    </tr>\n",
       "  </tbody>\n",
       "</table>\n",
       "</div>"
      ],
      "text/plain": [
       "                                name                   regions   start_dt  \\\n",
       "0           Christmas&New Year Promo             EU, N.America 2020-12-25   \n",
       "1       St. Valentine's Day Giveaway  EU, CIS, APAC, N.America 2020-02-14   \n",
       "2             St. Patric's Day Promo             EU, N.America 2020-03-17   \n",
       "3                       Easter Promo  EU, CIS, APAC, N.America 2020-04-12   \n",
       "4                  4th of July Promo                 N.America 2020-07-04   \n",
       "5          Black Friday Ads Campaign  EU, CIS, APAC, N.America 2020-11-26   \n",
       "6             Chinese New Year Promo                      APAC 2020-01-25   \n",
       "7   Labor day (May 1st) Ads Campaign             EU, CIS, APAC 2020-05-01   \n",
       "8    International Women's Day Promo             EU, CIS, APAC 2020-03-08   \n",
       "9    Victory Day CIS (May 9th) Event                       CIS 2020-05-09   \n",
       "10         CIS New Year Gift Lottery                       CIS 2020-12-30   \n",
       "11     Dragon Boat Festival Giveaway                      APAC 2020-06-25   \n",
       "12           Single's Day Gift Promo                      APAC 2020-11-11   \n",
       "13             Chinese Moon Festival                      APAC 2020-10-01   \n",
       "\n",
       "    finish_dt  apac  cis  eu  n_america  \n",
       "0  2021-01-03     0    0   1          1  \n",
       "1  2020-02-16     1    1   1          1  \n",
       "2  2020-03-19     0    0   1          1  \n",
       "3  2020-04-19     1    1   1          1  \n",
       "4  2020-07-11     0    0   0          1  \n",
       "5  2020-12-01     1    1   1          1  \n",
       "6  2020-02-07     1    0   0          0  \n",
       "7  2020-05-03     1    1   1          0  \n",
       "8  2020-03-10     1    1   1          0  \n",
       "9  2020-05-11     0    1   0          0  \n",
       "10 2021-01-07     0    1   0          0  \n",
       "11 2020-07-01     1    0   0          0  \n",
       "12 2020-11-12     1    0   0          0  \n",
       "13 2020-10-07     1    0   0          0  "
      ]
     },
     "execution_count": 104,
     "metadata": {},
     "output_type": "execute_result"
    }
   ],
   "source": [
    "mkt_events"
   ]
  },
  {
   "cell_type": "markdown",
   "id": "70fa80e2",
   "metadata": {},
   "source": [
    "## Users"
   ]
  },
  {
   "cell_type": "code",
   "execution_count": 105,
   "id": "ad7ec3a4",
   "metadata": {},
   "outputs": [
    {
     "data": {
      "text/html": [
       "<div>\n",
       "<style scoped>\n",
       "    .dataframe tbody tr th:only-of-type {\n",
       "        vertical-align: middle;\n",
       "    }\n",
       "\n",
       "    .dataframe tbody tr th {\n",
       "        vertical-align: top;\n",
       "    }\n",
       "\n",
       "    .dataframe thead th {\n",
       "        text-align: right;\n",
       "    }\n",
       "</style>\n",
       "<table border=\"1\" class=\"dataframe\">\n",
       "  <thead>\n",
       "    <tr style=\"text-align: right;\">\n",
       "      <th></th>\n",
       "      <th>user_id</th>\n",
       "      <th>first_date</th>\n",
       "      <th>region</th>\n",
       "      <th>device</th>\n",
       "    </tr>\n",
       "  </thead>\n",
       "  <tbody>\n",
       "    <tr>\n",
       "      <th>0</th>\n",
       "      <td>D72A72121175D8BE</td>\n",
       "      <td>2020-12-07</td>\n",
       "      <td>EU</td>\n",
       "      <td>PC</td>\n",
       "    </tr>\n",
       "    <tr>\n",
       "      <th>1</th>\n",
       "      <td>F1C668619DFE6E65</td>\n",
       "      <td>2020-12-07</td>\n",
       "      <td>N.America</td>\n",
       "      <td>Android</td>\n",
       "    </tr>\n",
       "    <tr>\n",
       "      <th>2</th>\n",
       "      <td>2E1BF1D4C37EA01F</td>\n",
       "      <td>2020-12-07</td>\n",
       "      <td>EU</td>\n",
       "      <td>PC</td>\n",
       "    </tr>\n",
       "    <tr>\n",
       "      <th>3</th>\n",
       "      <td>50734A22C0C63768</td>\n",
       "      <td>2020-12-07</td>\n",
       "      <td>EU</td>\n",
       "      <td>iPhone</td>\n",
       "    </tr>\n",
       "    <tr>\n",
       "      <th>4</th>\n",
       "      <td>E1BDDCE0DAFA2679</td>\n",
       "      <td>2020-12-07</td>\n",
       "      <td>N.America</td>\n",
       "      <td>iPhone</td>\n",
       "    </tr>\n",
       "  </tbody>\n",
       "</table>\n",
       "</div>"
      ],
      "text/plain": [
       "            user_id  first_date     region   device\n",
       "0  D72A72121175D8BE  2020-12-07         EU       PC\n",
       "1  F1C668619DFE6E65  2020-12-07  N.America  Android\n",
       "2  2E1BF1D4C37EA01F  2020-12-07         EU       PC\n",
       "3  50734A22C0C63768  2020-12-07         EU   iPhone\n",
       "4  E1BDDCE0DAFA2679  2020-12-07  N.America   iPhone"
      ]
     },
     "execution_count": 105,
     "metadata": {},
     "output_type": "execute_result"
    }
   ],
   "source": [
    "users.head()"
   ]
  },
  {
   "cell_type": "code",
   "execution_count": 106,
   "id": "c2949f61",
   "metadata": {},
   "outputs": [
    {
     "name": "stdout",
     "output_type": "stream",
     "text": [
      "<class 'pandas.core.frame.DataFrame'>\n",
      "RangeIndex: 58703 entries, 0 to 58702\n",
      "Data columns (total 4 columns):\n",
      " #   Column      Non-Null Count  Dtype \n",
      "---  ------      --------------  ----- \n",
      " 0   user_id     58703 non-null  object\n",
      " 1   first_date  58703 non-null  object\n",
      " 2   region      58703 non-null  object\n",
      " 3   device      58703 non-null  object\n",
      "dtypes: object(4)\n",
      "memory usage: 1.8+ MB\n"
     ]
    }
   ],
   "source": [
    "users.info()"
   ]
  },
  {
   "cell_type": "code",
   "execution_count": 107,
   "id": "c7b6cecc",
   "metadata": {},
   "outputs": [
    {
     "data": {
      "text/plain": [
       "np.int64(0)"
      ]
     },
     "execution_count": 107,
     "metadata": {},
     "output_type": "execute_result"
    }
   ],
   "source": [
    "users.duplicated().sum()"
   ]
  },
  {
   "cell_type": "code",
   "execution_count": 108,
   "id": "e0d3feb6",
   "metadata": {},
   "outputs": [
    {
     "name": "stdout",
     "output_type": "stream",
     "text": [
      "<class 'pandas.core.frame.DataFrame'>\n",
      "RangeIndex: 58703 entries, 0 to 58702\n",
      "Data columns (total 4 columns):\n",
      " #   Column      Non-Null Count  Dtype         \n",
      "---  ------      --------------  -----         \n",
      " 0   user_id     58703 non-null  object        \n",
      " 1   first_date  58703 non-null  datetime64[ns]\n",
      " 2   region      58703 non-null  object        \n",
      " 3   device      58703 non-null  object        \n",
      "dtypes: datetime64[ns](1), object(3)\n",
      "memory usage: 1.8+ MB\n"
     ]
    }
   ],
   "source": [
    "users.first_date = pd.to_datetime(users.first_date, errors = 'coerce')\n",
    "users.info()"
   ]
  },
  {
   "cell_type": "code",
   "execution_count": 109,
   "id": "c09066d1",
   "metadata": {},
   "outputs": [
    {
     "data": {
      "text/plain": [
       "device\n",
       "Android    26159\n",
       "PC         14845\n",
       "iPhone     11902\n",
       "Mac         5797\n",
       "Name: count, dtype: int64"
      ]
     },
     "execution_count": 109,
     "metadata": {},
     "output_type": "execute_result"
    }
   ],
   "source": [
    "# Conteo por dispositivos\n",
    "users.device.value_counts()"
   ]
  },
  {
   "cell_type": "code",
   "execution_count": 110,
   "id": "5d4c807e",
   "metadata": {},
   "outputs": [
    {
     "data": {
      "text/plain": [
       "region\n",
       "EU           43396\n",
       "N.America     9051\n",
       "CIS           3130\n",
       "APAC          3126\n",
       "Name: count, dtype: int64"
      ]
     },
     "execution_count": 110,
     "metadata": {},
     "output_type": "execute_result"
    }
   ],
   "source": [
    "# Conteo por región\n",
    "users.region.value_counts()"
   ]
  },
  {
   "cell_type": "code",
   "execution_count": 111,
   "id": "8ae274f3",
   "metadata": {},
   "outputs": [
    {
     "data": {
      "text/plain": [
       "array(['eu', 'n_america', 'apac', 'cis'], dtype=object)"
      ]
     },
     "execution_count": 111,
     "metadata": {},
     "output_type": "execute_result"
    }
   ],
   "source": [
    "users.region = users.region.str.lower().str.replace('.','_')\n",
    "users.region.unique()"
   ]
  },
  {
   "cell_type": "code",
   "execution_count": 112,
   "id": "04c51298",
   "metadata": {},
   "outputs": [
    {
     "data": {
      "text/html": [
       "<div>\n",
       "<style scoped>\n",
       "    .dataframe tbody tr th:only-of-type {\n",
       "        vertical-align: middle;\n",
       "    }\n",
       "\n",
       "    .dataframe tbody tr th {\n",
       "        vertical-align: top;\n",
       "    }\n",
       "\n",
       "    .dataframe thead th {\n",
       "        text-align: right;\n",
       "    }\n",
       "</style>\n",
       "<table border=\"1\" class=\"dataframe\">\n",
       "  <thead>\n",
       "    <tr style=\"text-align: right;\">\n",
       "      <th></th>\n",
       "      <th>user_id</th>\n",
       "      <th>first_date</th>\n",
       "      <th>region</th>\n",
       "      <th>device</th>\n",
       "    </tr>\n",
       "  </thead>\n",
       "  <tbody>\n",
       "    <tr>\n",
       "      <th>0</th>\n",
       "      <td>D72A72121175D8BE</td>\n",
       "      <td>2020-12-07</td>\n",
       "      <td>eu</td>\n",
       "      <td>PC</td>\n",
       "    </tr>\n",
       "    <tr>\n",
       "      <th>1</th>\n",
       "      <td>F1C668619DFE6E65</td>\n",
       "      <td>2020-12-07</td>\n",
       "      <td>n_america</td>\n",
       "      <td>Android</td>\n",
       "    </tr>\n",
       "    <tr>\n",
       "      <th>2</th>\n",
       "      <td>2E1BF1D4C37EA01F</td>\n",
       "      <td>2020-12-07</td>\n",
       "      <td>eu</td>\n",
       "      <td>PC</td>\n",
       "    </tr>\n",
       "    <tr>\n",
       "      <th>3</th>\n",
       "      <td>50734A22C0C63768</td>\n",
       "      <td>2020-12-07</td>\n",
       "      <td>eu</td>\n",
       "      <td>iPhone</td>\n",
       "    </tr>\n",
       "    <tr>\n",
       "      <th>4</th>\n",
       "      <td>E1BDDCE0DAFA2679</td>\n",
       "      <td>2020-12-07</td>\n",
       "      <td>n_america</td>\n",
       "      <td>iPhone</td>\n",
       "    </tr>\n",
       "  </tbody>\n",
       "</table>\n",
       "</div>"
      ],
      "text/plain": [
       "            user_id first_date     region   device\n",
       "0  D72A72121175D8BE 2020-12-07         eu       PC\n",
       "1  F1C668619DFE6E65 2020-12-07  n_america  Android\n",
       "2  2E1BF1D4C37EA01F 2020-12-07         eu       PC\n",
       "3  50734A22C0C63768 2020-12-07         eu   iPhone\n",
       "4  E1BDDCE0DAFA2679 2020-12-07  n_america   iPhone"
      ]
     },
     "execution_count": 112,
     "metadata": {},
     "output_type": "execute_result"
    }
   ],
   "source": [
    "users.head()"
   ]
  },
  {
   "cell_type": "markdown",
   "id": "ed5d4a6a",
   "metadata": {},
   "source": [
    "## User events"
   ]
  },
  {
   "cell_type": "code",
   "execution_count": 113,
   "id": "b875958e",
   "metadata": {},
   "outputs": [
    {
     "data": {
      "text/html": [
       "<div>\n",
       "<style scoped>\n",
       "    .dataframe tbody tr th:only-of-type {\n",
       "        vertical-align: middle;\n",
       "    }\n",
       "\n",
       "    .dataframe tbody tr th {\n",
       "        vertical-align: top;\n",
       "    }\n",
       "\n",
       "    .dataframe thead th {\n",
       "        text-align: right;\n",
       "    }\n",
       "</style>\n",
       "<table border=\"1\" class=\"dataframe\">\n",
       "  <thead>\n",
       "    <tr style=\"text-align: right;\">\n",
       "      <th></th>\n",
       "      <th>user_id</th>\n",
       "      <th>event_dt</th>\n",
       "      <th>event_name</th>\n",
       "      <th>details</th>\n",
       "    </tr>\n",
       "  </thead>\n",
       "  <tbody>\n",
       "    <tr>\n",
       "      <th>0</th>\n",
       "      <td>E1BDDCE0DAFA2679</td>\n",
       "      <td>2020-12-07 20:22:03</td>\n",
       "      <td>purchase</td>\n",
       "      <td>99.99</td>\n",
       "    </tr>\n",
       "    <tr>\n",
       "      <th>1</th>\n",
       "      <td>7B6452F081F49504</td>\n",
       "      <td>2020-12-07 09:22:53</td>\n",
       "      <td>purchase</td>\n",
       "      <td>9.99</td>\n",
       "    </tr>\n",
       "    <tr>\n",
       "      <th>2</th>\n",
       "      <td>9CD9F34546DF254C</td>\n",
       "      <td>2020-12-07 12:59:29</td>\n",
       "      <td>purchase</td>\n",
       "      <td>4.99</td>\n",
       "    </tr>\n",
       "    <tr>\n",
       "      <th>3</th>\n",
       "      <td>96F27A054B191457</td>\n",
       "      <td>2020-12-07 04:02:40</td>\n",
       "      <td>purchase</td>\n",
       "      <td>4.99</td>\n",
       "    </tr>\n",
       "    <tr>\n",
       "      <th>4</th>\n",
       "      <td>1FD7660FDF94CA1F</td>\n",
       "      <td>2020-12-07 10:15:09</td>\n",
       "      <td>purchase</td>\n",
       "      <td>4.99</td>\n",
       "    </tr>\n",
       "  </tbody>\n",
       "</table>\n",
       "</div>"
      ],
      "text/plain": [
       "            user_id             event_dt event_name  details\n",
       "0  E1BDDCE0DAFA2679  2020-12-07 20:22:03   purchase    99.99\n",
       "1  7B6452F081F49504  2020-12-07 09:22:53   purchase     9.99\n",
       "2  9CD9F34546DF254C  2020-12-07 12:59:29   purchase     4.99\n",
       "3  96F27A054B191457  2020-12-07 04:02:40   purchase     4.99\n",
       "4  1FD7660FDF94CA1F  2020-12-07 10:15:09   purchase     4.99"
      ]
     },
     "execution_count": 113,
     "metadata": {},
     "output_type": "execute_result"
    }
   ],
   "source": [
    "events.head()"
   ]
  },
  {
   "cell_type": "code",
   "execution_count": 114,
   "id": "ea6c9c99",
   "metadata": {},
   "outputs": [
    {
     "name": "stdout",
     "output_type": "stream",
     "text": [
      "<class 'pandas.core.frame.DataFrame'>\n",
      "RangeIndex: 423761 entries, 0 to 423760\n",
      "Data columns (total 4 columns):\n",
      " #   Column      Non-Null Count   Dtype  \n",
      "---  ------      --------------   -----  \n",
      " 0   user_id     423761 non-null  object \n",
      " 1   event_dt    423761 non-null  object \n",
      " 2   event_name  423761 non-null  object \n",
      " 3   details     60314 non-null   float64\n",
      "dtypes: float64(1), object(3)\n",
      "memory usage: 12.9+ MB\n"
     ]
    }
   ],
   "source": [
    "events.info()"
   ]
  },
  {
   "cell_type": "code",
   "execution_count": 115,
   "id": "5daaa91a",
   "metadata": {},
   "outputs": [
    {
     "data": {
      "text/plain": [
       "np.int64(0)"
      ]
     },
     "execution_count": 115,
     "metadata": {},
     "output_type": "execute_result"
    }
   ],
   "source": [
    "events.duplicated().sum()"
   ]
  },
  {
   "cell_type": "code",
   "execution_count": 116,
   "id": "3eb6b423",
   "metadata": {},
   "outputs": [
    {
     "data": {
      "text/plain": [
       "60314"
      ]
     },
     "execution_count": 116,
     "metadata": {},
     "output_type": "execute_result"
    }
   ],
   "source": [
    "# Comprobamos que los valores no nulos de details, pertenecen a eventos de tipo 'purchase'\n",
    "len(events[events.event_name == 'purchase'])"
   ]
  },
  {
   "cell_type": "code",
   "execution_count": 117,
   "id": "140af86a",
   "metadata": {},
   "outputs": [
    {
     "data": {
      "text/plain": [
       "array(['product_cart', 'product_page', 'login'], dtype=object)"
      ]
     },
     "execution_count": 117,
     "metadata": {},
     "output_type": "execute_result"
    }
   ],
   "source": [
    "null_details = events[events.details.isnull()]\n",
    "null_details.event_name.unique()\n"
   ]
  },
  {
   "cell_type": "code",
   "execution_count": 118,
   "id": "0b1fe1af",
   "metadata": {},
   "outputs": [
    {
     "data": {
      "text/plain": [
       "event_name\n",
       "login           182465\n",
       "product_page    120862\n",
       "purchase         60314\n",
       "product_cart     60120\n",
       "Name: count, dtype: int64"
      ]
     },
     "execution_count": 118,
     "metadata": {},
     "output_type": "execute_result"
    }
   ],
   "source": [
    "# Frecuencias por evento\n",
    "events.event_name.value_counts()"
   ]
  },
  {
   "cell_type": "code",
   "execution_count": 119,
   "id": "e34d6719",
   "metadata": {},
   "outputs": [
    {
     "name": "stdout",
     "output_type": "stream",
     "text": [
      "<class 'pandas.core.frame.DataFrame'>\n",
      "RangeIndex: 423761 entries, 0 to 423760\n",
      "Data columns (total 4 columns):\n",
      " #   Column      Non-Null Count   Dtype         \n",
      "---  ------      --------------   -----         \n",
      " 0   user_id     423761 non-null  object        \n",
      " 1   event_dt    423761 non-null  datetime64[ns]\n",
      " 2   event_name  423761 non-null  object        \n",
      " 3   details     60314 non-null   float64       \n",
      "dtypes: datetime64[ns](1), float64(1), object(2)\n",
      "memory usage: 12.9+ MB\n"
     ]
    }
   ],
   "source": [
    "# Convertimos columna event_dt a tipo datetime\n",
    "events.event_dt = pd.to_datetime(events.event_dt, errors = 'coerce')\n",
    "events.info()\n"
   ]
  },
  {
   "cell_type": "code",
   "execution_count": 120,
   "id": "8472fdc4",
   "metadata": {},
   "outputs": [
    {
     "data": {
      "text/html": [
       "<div>\n",
       "<style scoped>\n",
       "    .dataframe tbody tr th:only-of-type {\n",
       "        vertical-align: middle;\n",
       "    }\n",
       "\n",
       "    .dataframe tbody tr th {\n",
       "        vertical-align: top;\n",
       "    }\n",
       "\n",
       "    .dataframe thead th {\n",
       "        text-align: right;\n",
       "    }\n",
       "</style>\n",
       "<table border=\"1\" class=\"dataframe\">\n",
       "  <thead>\n",
       "    <tr style=\"text-align: right;\">\n",
       "      <th></th>\n",
       "      <th>user_id</th>\n",
       "      <th>event_dt</th>\n",
       "      <th>event_name</th>\n",
       "      <th>details</th>\n",
       "    </tr>\n",
       "  </thead>\n",
       "  <tbody>\n",
       "    <tr>\n",
       "      <th>0</th>\n",
       "      <td>E1BDDCE0DAFA2679</td>\n",
       "      <td>2020-12-07 20:22:03</td>\n",
       "      <td>purchase</td>\n",
       "      <td>99.99</td>\n",
       "    </tr>\n",
       "    <tr>\n",
       "      <th>1</th>\n",
       "      <td>7B6452F081F49504</td>\n",
       "      <td>2020-12-07 09:22:53</td>\n",
       "      <td>purchase</td>\n",
       "      <td>9.99</td>\n",
       "    </tr>\n",
       "    <tr>\n",
       "      <th>2</th>\n",
       "      <td>9CD9F34546DF254C</td>\n",
       "      <td>2020-12-07 12:59:29</td>\n",
       "      <td>purchase</td>\n",
       "      <td>4.99</td>\n",
       "    </tr>\n",
       "    <tr>\n",
       "      <th>3</th>\n",
       "      <td>96F27A054B191457</td>\n",
       "      <td>2020-12-07 04:02:40</td>\n",
       "      <td>purchase</td>\n",
       "      <td>4.99</td>\n",
       "    </tr>\n",
       "    <tr>\n",
       "      <th>4</th>\n",
       "      <td>1FD7660FDF94CA1F</td>\n",
       "      <td>2020-12-07 10:15:09</td>\n",
       "      <td>purchase</td>\n",
       "      <td>4.99</td>\n",
       "    </tr>\n",
       "  </tbody>\n",
       "</table>\n",
       "</div>"
      ],
      "text/plain": [
       "            user_id            event_dt event_name  details\n",
       "0  E1BDDCE0DAFA2679 2020-12-07 20:22:03   purchase    99.99\n",
       "1  7B6452F081F49504 2020-12-07 09:22:53   purchase     9.99\n",
       "2  9CD9F34546DF254C 2020-12-07 12:59:29   purchase     4.99\n",
       "3  96F27A054B191457 2020-12-07 04:02:40   purchase     4.99\n",
       "4  1FD7660FDF94CA1F 2020-12-07 10:15:09   purchase     4.99"
      ]
     },
     "execution_count": 120,
     "metadata": {},
     "output_type": "execute_result"
    }
   ],
   "source": [
    "events.head()"
   ]
  },
  {
   "cell_type": "markdown",
   "id": "cb8f6f87",
   "metadata": {},
   "source": [
    "## AB data"
   ]
  },
  {
   "cell_type": "code",
   "execution_count": 121,
   "id": "cb1600ab",
   "metadata": {},
   "outputs": [
    {
     "data": {
      "text/html": [
       "<div>\n",
       "<style scoped>\n",
       "    .dataframe tbody tr th:only-of-type {\n",
       "        vertical-align: middle;\n",
       "    }\n",
       "\n",
       "    .dataframe tbody tr th {\n",
       "        vertical-align: top;\n",
       "    }\n",
       "\n",
       "    .dataframe thead th {\n",
       "        text-align: right;\n",
       "    }\n",
       "</style>\n",
       "<table border=\"1\" class=\"dataframe\">\n",
       "  <thead>\n",
       "    <tr style=\"text-align: right;\">\n",
       "      <th></th>\n",
       "      <th>user_id</th>\n",
       "      <th>group</th>\n",
       "      <th>ab_test</th>\n",
       "    </tr>\n",
       "  </thead>\n",
       "  <tbody>\n",
       "    <tr>\n",
       "      <th>0</th>\n",
       "      <td>D1ABA3E2887B6A73</td>\n",
       "      <td>A</td>\n",
       "      <td>recommender_system_test</td>\n",
       "    </tr>\n",
       "    <tr>\n",
       "      <th>1</th>\n",
       "      <td>A7A3664BD6242119</td>\n",
       "      <td>A</td>\n",
       "      <td>recommender_system_test</td>\n",
       "    </tr>\n",
       "    <tr>\n",
       "      <th>2</th>\n",
       "      <td>DABC14FDDFADD29E</td>\n",
       "      <td>A</td>\n",
       "      <td>recommender_system_test</td>\n",
       "    </tr>\n",
       "    <tr>\n",
       "      <th>3</th>\n",
       "      <td>04988C5DF189632E</td>\n",
       "      <td>A</td>\n",
       "      <td>recommender_system_test</td>\n",
       "    </tr>\n",
       "    <tr>\n",
       "      <th>4</th>\n",
       "      <td>4FF2998A348C484F</td>\n",
       "      <td>A</td>\n",
       "      <td>recommender_system_test</td>\n",
       "    </tr>\n",
       "  </tbody>\n",
       "</table>\n",
       "</div>"
      ],
      "text/plain": [
       "            user_id group                  ab_test\n",
       "0  D1ABA3E2887B6A73     A  recommender_system_test\n",
       "1  A7A3664BD6242119     A  recommender_system_test\n",
       "2  DABC14FDDFADD29E     A  recommender_system_test\n",
       "3  04988C5DF189632E     A  recommender_system_test\n",
       "4  4FF2998A348C484F     A  recommender_system_test"
      ]
     },
     "execution_count": 121,
     "metadata": {},
     "output_type": "execute_result"
    }
   ],
   "source": [
    "ab_data.head()"
   ]
  },
  {
   "cell_type": "code",
   "execution_count": 122,
   "id": "1d4b3b93",
   "metadata": {},
   "outputs": [
    {
     "name": "stdout",
     "output_type": "stream",
     "text": [
      "<class 'pandas.core.frame.DataFrame'>\n",
      "RangeIndex: 14525 entries, 0 to 14524\n",
      "Data columns (total 3 columns):\n",
      " #   Column   Non-Null Count  Dtype \n",
      "---  ------   --------------  ----- \n",
      " 0   user_id  14525 non-null  object\n",
      " 1   group    14525 non-null  object\n",
      " 2   ab_test  14525 non-null  object\n",
      "dtypes: object(3)\n",
      "memory usage: 340.6+ KB\n"
     ]
    }
   ],
   "source": [
    "ab_data.info()"
   ]
  },
  {
   "cell_type": "code",
   "execution_count": 123,
   "id": "d78fbd3e",
   "metadata": {},
   "outputs": [
    {
     "data": {
      "text/plain": [
       "np.int64(0)"
      ]
     },
     "execution_count": 123,
     "metadata": {},
     "output_type": "execute_result"
    }
   ],
   "source": [
    "ab_data.duplicated().sum()"
   ]
  },
  {
   "cell_type": "code",
   "execution_count": 124,
   "id": "82bb55b5",
   "metadata": {},
   "outputs": [
    {
     "data": {
      "text/plain": [
       "ab_test\n",
       "interface_eu_test          10850\n",
       "recommender_system_test     3675\n",
       "Name: count, dtype: int64"
      ]
     },
     "execution_count": 124,
     "metadata": {},
     "output_type": "execute_result"
    }
   ],
   "source": [
    "ab_data.ab_test.value_counts()"
   ]
  },
  {
   "cell_type": "code",
   "execution_count": 125,
   "id": "b44a893c",
   "metadata": {},
   "outputs": [
    {
     "data": {
      "text/html": [
       "<div>\n",
       "<style scoped>\n",
       "    .dataframe tbody tr th:only-of-type {\n",
       "        vertical-align: middle;\n",
       "    }\n",
       "\n",
       "    .dataframe tbody tr th {\n",
       "        vertical-align: top;\n",
       "    }\n",
       "\n",
       "    .dataframe thead th {\n",
       "        text-align: right;\n",
       "    }\n",
       "</style>\n",
       "<table border=\"1\" class=\"dataframe\">\n",
       "  <thead>\n",
       "    <tr style=\"text-align: right;\">\n",
       "      <th></th>\n",
       "      <th>user_id</th>\n",
       "      <th>group</th>\n",
       "      <th>ab_test</th>\n",
       "    </tr>\n",
       "  </thead>\n",
       "  <tbody>\n",
       "    <tr>\n",
       "      <th>2290</th>\n",
       "      <td>2F92CC312FAE5019</td>\n",
       "      <td>A</td>\n",
       "      <td>recommender_system_test</td>\n",
       "    </tr>\n",
       "    <tr>\n",
       "      <th>3578</th>\n",
       "      <td>6EE4A0C1B37EE957</td>\n",
       "      <td>A</td>\n",
       "      <td>recommender_system_test</td>\n",
       "    </tr>\n",
       "    <tr>\n",
       "      <th>1854</th>\n",
       "      <td>552EDDA2930F0B0D</td>\n",
       "      <td>A</td>\n",
       "      <td>recommender_system_test</td>\n",
       "    </tr>\n",
       "    <tr>\n",
       "      <th>2898</th>\n",
       "      <td>DC5E7D5B8B4F5C9C</td>\n",
       "      <td>A</td>\n",
       "      <td>recommender_system_test</td>\n",
       "    </tr>\n",
       "    <tr>\n",
       "      <th>2546</th>\n",
       "      <td>3A74E4032706FD0E</td>\n",
       "      <td>B</td>\n",
       "      <td>recommender_system_test</td>\n",
       "    </tr>\n",
       "  </tbody>\n",
       "</table>\n",
       "</div>"
      ],
      "text/plain": [
       "               user_id group                  ab_test\n",
       "2290  2F92CC312FAE5019     A  recommender_system_test\n",
       "3578  6EE4A0C1B37EE957     A  recommender_system_test\n",
       "1854  552EDDA2930F0B0D     A  recommender_system_test\n",
       "2898  DC5E7D5B8B4F5C9C     A  recommender_system_test\n",
       "2546  3A74E4032706FD0E     B  recommender_system_test"
      ]
     },
     "execution_count": 125,
     "metadata": {},
     "output_type": "execute_result"
    }
   ],
   "source": [
    "# Seleccionaremos los usuarios que realizaron la prueba recommender_system_test\n",
    "recomender_system = ab_data[ab_data.ab_test == 'recommender_system_test']\n",
    "recomender_system.sample(5)"
   ]
  },
  {
   "cell_type": "code",
   "execution_count": 126,
   "id": "b48a4656",
   "metadata": {},
   "outputs": [
    {
     "data": {
      "text/plain": [
       "group\n",
       "A    2747\n",
       "B     928\n",
       "Name: count, dtype: int64"
      ]
     },
     "execution_count": 126,
     "metadata": {},
     "output_type": "execute_result"
    }
   ],
   "source": [
    "recomender_system.group.value_counts()"
   ]
  },
  {
   "cell_type": "code",
   "execution_count": 127,
   "id": "332ddbf3",
   "metadata": {},
   "outputs": [
    {
     "data": {
      "text/plain": [
       "np.False_"
      ]
     },
     "execution_count": 127,
     "metadata": {},
     "output_type": "execute_result"
    }
   ],
   "source": [
    "#Checamos si un usuario pertenece a los dos grupos\n",
    "recomender_system.groupby(\"user_id\")[\"group\"].nunique().gt(1).any()\n",
    "# True si hay al menos un usuario en más de un grupo\n"
   ]
  },
  {
   "cell_type": "markdown",
   "id": "0f2832c2",
   "metadata": {},
   "source": [
    "## Llevar a cabo el análisis exploratorio de datos:    \n",
    "- Estudia la conversión en las diferentes etapas del embudo.\n",
    "- ¿El número de eventos por usuario está distribuido equitativamente entre las muestras?\n",
    "- ¿Hay usuarios que están presentes en ambas muestras?\n",
    "- ¿Cómo se distribuye el número de eventos entre los días?\n",
    "- ¿Hay alguna peculiaridad en los datos que hay que tener en cuenta antes de iniciar la prueba A/B?"
   ]
  },
  {
   "cell_type": "code",
   "execution_count": 128,
   "id": "490832a9",
   "metadata": {},
   "outputs": [
    {
     "name": "stdout",
     "output_type": "stream",
     "text": [
      "<class 'pandas.core.frame.DataFrame'>\n",
      "RangeIndex: 23909 entries, 0 to 23908\n",
      "Data columns (total 6 columns):\n",
      " #   Column      Non-Null Count  Dtype         \n",
      "---  ------      --------------  -----         \n",
      " 0   user_id     23909 non-null  object        \n",
      " 1   event_dt    23909 non-null  datetime64[ns]\n",
      " 2   event_name  23909 non-null  object        \n",
      " 3   details     3210 non-null   float64       \n",
      " 4   first_date  23909 non-null  datetime64[ns]\n",
      " 5   group       23909 non-null  object        \n",
      "dtypes: datetime64[ns](2), float64(1), object(3)\n",
      "memory usage: 1.1+ MB\n"
     ]
    }
   ],
   "source": [
    "# Haremos un merge con nuestra tablas para tener todo en un mismo data frame\n",
    "\n",
    "users_part = users.merge(\n",
    "    recomender_system[['user_id', 'group']],\n",
    "    on = 'user_id',\n",
    "    how = 'inner'\n",
    ")\n",
    "\n",
    "# Ahora hacemos merge con events\n",
    "events_full = events.merge(\n",
    "    users_part[['user_id', 'first_date', 'group']],\n",
    "    on = 'user_id', \n",
    "    how = 'inner'\n",
    ")\n",
    "\n",
    "events_full.info()"
   ]
  },
  {
   "cell_type": "code",
   "execution_count": 129,
   "id": "adb2e562",
   "metadata": {},
   "outputs": [
    {
     "name": "stdout",
     "output_type": "stream",
     "text": [
      "Eventos antes del filtro: 23909\n",
      "Eventos después del filtro: 23151\n"
     ]
    }
   ],
   "source": [
    "# Filtraremos a los usuarios que tuvieron eventos 14 días despúes de la first_date de eventos\n",
    "# creamos máscara\n",
    "mask = (\n",
    "    (events_full['event_dt'] >= events_full.first_date) & \n",
    "    (events_full.event_dt <= events_full.first_date + pd.Timedelta(days=14))\n",
    ")\n",
    "#aplicamos filtro\n",
    "events_window = events_full[mask].copy()\n",
    "events_window.head()\n",
    "\n",
    "print(\"Eventos antes del filtro:\", events_full.shape[0])\n",
    "print(\"Eventos después del filtro:\", events_window.shape[0])"
   ]
  },
  {
   "cell_type": "code",
   "execution_count": 130,
   "id": "45cf78c1",
   "metadata": {},
   "outputs": [
    {
     "data": {
      "text/plain": [
       "3675"
      ]
     },
     "execution_count": 130,
     "metadata": {},
     "output_type": "execute_result"
    }
   ],
   "source": [
    "# Queremos verificar que todos los usuarios hayan hecho login\n",
    "# Contamos cuántos usuarios únicos tenemos\n",
    "events_window.user_id.nunique()"
   ]
  },
  {
   "cell_type": "code",
   "execution_count": 131,
   "id": "abafba66",
   "metadata": {},
   "outputs": [
    {
     "data": {
      "text/plain": [
       "event_name\n",
       "login           3674\n",
       "product_cart    1079\n",
       "product_page    2303\n",
       "purchase        1128\n",
       "Name: user_id, dtype: int64"
      ]
     },
     "execution_count": 131,
     "metadata": {},
     "output_type": "execute_result"
    }
   ],
   "source": [
    "# Vemos cuántos usuarios únicos hicieron el evento login\n",
    "events_window.groupby('event_name')['user_id'].nunique()"
   ]
  },
  {
   "cell_type": "code",
   "execution_count": 132,
   "id": "0acf81fc",
   "metadata": {},
   "outputs": [
    {
     "name": "stdout",
     "output_type": "stream",
     "text": [
      "            user_id first_date region   device group  has_product_page  \\\n",
      "0  D72A72121175D8BE 2020-12-07     eu       PC     A                 1   \n",
      "1  DD4352CDCF8C3D57 2020-12-07     eu  Android     B                 1   \n",
      "2  831887FE7F2D6CBA 2020-12-07     eu  Android     A                 0   \n",
      "3  4CB179C7F847320B 2020-12-07     eu   iPhone     B                 1   \n",
      "4  29C92313A98B1176 2020-12-07   apac  Android     B                 1   \n",
      "\n",
      "   has_product_cart  has_purchase  \n",
      "0                 0             0  \n",
      "1                 0             0  \n",
      "2                 1             1  \n",
      "3                 0             0  \n",
      "4                 0             0  \n"
     ]
    }
   ],
   "source": [
    "# Construiremos un embudo de las etapas\n",
    "\n",
    "# 1) Pivot table: contar eventos por usuario y tipo\n",
    "user_event_counts = events_window.groupby(['user_id','event_name']).size().unstack(fill_value=0)\n",
    "\n",
    "# 2) Crear flags 0/1 para cada etapa del embudo\n",
    "has_page = (user_event_counts.get('product_page', 0) > 0).astype(int).rename('has_product_page')\n",
    "has_cart = (user_event_counts.get('product_cart', 0) > 0).astype(int).rename('has_product_cart')\n",
    "has_purchase = (user_event_counts.get('purchase', 0) > 0).astype(int).rename('has_purchase')\n",
    "\n",
    "# 3) Unir flags en un solo DataFrame\n",
    "flags = pd.concat([has_page, has_cart, has_purchase], axis=1).reset_index()\n",
    "\n",
    "# 4) Unir con info de usuario (grupo y first_date)\n",
    "users_part = users.merge(recomender_system[['user_id','group']], on='user_id', how='inner')\n",
    "df_funnel = users_part.merge(flags, on='user_id', how='left').fillna(0)\n",
    "\n",
    "# Asegurarnos de que los flags sean enteros\n",
    "for c in ['has_product_page','has_product_cart','has_purchase']:\n",
    "    df_funnel[c] = df_funnel[c].astype(int)\n",
    "\n",
    "# 5) Ver primeras filas\n",
    "print(df_funnel.head())\n"
   ]
  },
  {
   "cell_type": "code",
   "execution_count": 133,
   "id": "d8e3c6cf",
   "metadata": {},
   "outputs": [
    {
     "name": "stdout",
     "output_type": "stream",
     "text": [
      "       has_product_page  has_product_cart  has_purchase\n",
      "group                                                  \n",
      "A                 64.80             30.00         31.74\n",
      "B                 56.36             27.48         27.59\n"
     ]
    }
   ],
   "source": [
    "# Calcular la conversión abslouta por grupo\n",
    "\n",
    "funnel_summary = (\n",
    "    df_funnel.groupby(\"group\")[[\"has_product_page\",\"has_product_cart\",\"has_purchase\"]]\n",
    "    .mean()  # promedio de 0/1 = porcentaje de usuarios\n",
    "    .mul(100)  # pasamos a %\n",
    "    .round(2)\n",
    ")\n",
    "print(funnel_summary)\n"
   ]
  },
  {
   "cell_type": "code",
   "execution_count": 142,
   "id": "6bbee6db",
   "metadata": {},
   "outputs": [
    {
     "data": {
      "image/png": "[encoded data removed]",
      "text/plain": [
       "<Figure size 1200x400 with 2 Axes>"
      ]
     },
     "metadata": {},
     "output_type": "display_data"
    }
   ],
   "source": [
    "# Graficamos evolución de cada grupo\n",
    "\n",
    "# etapas en orden\n",
    "stages = [\"has_purchase\", \"has_product_cart\", \"has_product_page\"]\n",
    "stage_labels = [\"Purchase\", \"Cart\", \"Product Page\"]\n",
    "\n",
    "fig, axes = plt.subplots(1, 2, figsize=(12,4), sharey=True)\n",
    "\n",
    "for ax, group in zip(axes, funnel_summary.index):\n",
    "    values = funnel_summary.loc[group, stages]\n",
    "    ax.barh(stage_labels, values, color=\"skyblue\")\n",
    "    ax.set_xlim(0, 100)\n",
    "    ax.set_title(f\"Grupo {group}\")\n",
    "    # anotar porcentajes\n",
    "    for i, v in enumerate(values):\n",
    "        ax.text(v + 1, i, f\"{v:.1f}%\", va=\"center\")\n",
    "\n",
    "fig.suptitle(\"Embudo de conversión por grupo\", fontsize=14)\n",
    "plt.tight_layout()\n",
    "plt.show()\n"
   ]
  },
  {
   "cell_type": "code",
   "execution_count": null,
   "id": "42967070",
   "metadata": {},
   "outputs": [
    {
     "data": {
      "image/png": "[encoded data removed]",
      "text/plain": [
       "<Figure size 800x400 with 1 Axes>"
      ]
     },
     "metadata": {},
     "output_type": "display_data"
    }
   ],
   "source": [
    "# Graficamos embudo comparando los grupos\n",
    "# etapas en orden\n",
    "stages = [\"has_product_page\", \"has_product_cart\", \"has_purchase\"]\n",
    "stage_labels = [\"Product Page\", \"Cart\", \"Purchase\"]\n",
    "\n",
    "# posiciones para las barras\n",
    "x = np.arange(len(stages))  # 0,1,2\n",
    "width = 0.35  # ancho de cada barra\n",
    "\n",
    "fig, ax = plt.subplots(figsize=(8,4))\n",
    "\n",
    "# barras para cada grupo\n",
    "ax.bar(x - width/2, funnel_summary.loc[\"A\", stages], width, label=\"Grupo A\", color=\"skyblue\")\n",
    "ax.bar(x + width/2, funnel_summary.loc[\"B\", stages], width, label=\"Grupo B\", color=\"lightcoral\")\n",
    "\n",
    "# detalles\n",
    "ax.set_xticks(x)\n",
    "ax.set_xticklabels(stage_labels)\n",
    "ax.set_ylabel(\"Usuarios (%)\")\n",
    "ax.set_title(\"Embudo de conversión comparativo A vs B\")\n",
    "ax.legend()\n",
    "v\n",
    "# anotar valores encima\n",
    "for i, stage in enumerate(stages):\n",
    "    ax.text(i - width/2, funnel_summary.loc[\"A\", stage] + 1, \n",
    "            f\"{funnel_summary.loc['A', stage]:.1f}%\", ha=\"center\", color=\"black\")\n",
    "    ax.text(i + width/2, funnel_summary.loc[\"B\", stage] + 1, \n",
    "            f\"{funnel_summary.loc['B', stage]:.1f}%\", ha=\"center\", color=\"black\")\n",
    "\n",
    "plt.tight_layout()\n",
    "plt.show()\n",
    "\n"
   ]
  },
  {
   "cell_type": "markdown",
   "id": "f2cd5758",
   "metadata": {},
   "source": [
    "Grupo B rinde peor que A en todas las etapas, y muy lejos del +10% esperado."
   ]
  },
  {
   "cell_type": "code",
   "execution_count": 135,
   "id": "29d191b7",
   "metadata": {},
   "outputs": [
    {
     "name": "stdout",
     "output_type": "stream",
     "text": [
      "       page→cart %  cart→purchase %\n",
      "group                              \n",
      "A            46.29           105.83\n",
      "B            48.76           100.39\n"
     ]
    }
   ],
   "source": [
    "# Calcular conversión condicional\n",
    "\n",
    "conversion_conditional = (\n",
    "    df_funnel.groupby(\"group\")[[\"has_product_page\",\"has_product_cart\",\"has_purchase\"]]\n",
    "    .apply(lambda g: pd.Series({\n",
    "        \"page→cart %\": (g[\"has_product_cart\"].sum() / g[\"has_product_page\"].sum() * 100).round(2),\n",
    "        \"cart→purchase %\": (g[\"has_purchase\"].sum() / g[\"has_product_cart\"].sum() * 100).round(2),\n",
    "    }))\n",
    ")\n",
    "print(conversion_conditional)\n"
   ]
  },
  {
   "cell_type": "markdown",
   "id": "6494391c",
   "metadata": {},
   "source": [
    "Se detecta que el número de usuarios con purchase supera al de product_cart. Esto sugiere que el evento product_cart no siempre se registra antes de la compra (quizá por un flujo alternativo de ‘compra directa’ o por pérdidas en el log). Esta limitación debe considerarse al interpretar las tasas de conversión."
   ]
  },
  {
   "cell_type": "code",
   "execution_count": 154,
   "id": "55e014b0",
   "metadata": {},
   "outputs": [
    {
     "name": "stdout",
     "output_type": "stream",
     "text": [
      "Usuarios con purchase pero sin cart: 783\n",
      "Porcentaje de compradores sin cart: 69.41%\n"
     ]
    }
   ],
   "source": [
    "# Verificamos cuánto porcentaje de usuarios para a Purchase sin pasar por Cart\n",
    "\n",
    "users_with_cart = set(df_funnel.loc[df_funnel[\"has_product_cart\"] == 1, \"user_id\"])\n",
    "users_with_purchase = set(df_funnel.loc[df_funnel[\"has_purchase\"] == 1, \"user_id\"])\n",
    "\n",
    "purchase_without_cart = users_with_purchase - users_with_cart\n",
    "print(f\"Usuarios con purchase pero sin cart: {len(purchase_without_cart)}\")\n",
    "\n",
    "perc_purchase_without_cart = len(purchase_without_cart) / len(users_with_purchase) * 100\n",
    "print(f\"Porcentaje de compradores sin cart: {perc_purchase_without_cart:.2f}%\")\n",
    "\n"
   ]
  },
  {
   "cell_type": "markdown",
   "id": "e99d19b2",
   "metadata": {},
   "source": [
    "Tenemos un gran porcentaje de usuarios que pasaron a Purchase sin pasar por el evento Cart. 69.41%"
   ]
  },
  {
   "cell_type": "code",
   "execution_count": 156,
   "id": "f4919263",
   "metadata": {},
   "outputs": [
    {
     "name": "stdout",
     "output_type": "stream",
     "text": [
      "                 user_id            event_dt    event_name\n",
      "146     0997EC1C4850B27B 2020-12-07 08:01:55      purchase\n",
      "241730  0997EC1C4850B27B 2020-12-07 08:01:55         login\n",
      "1714    0997EC1C4850B27B 2020-12-08 04:04:59      purchase\n",
      "24722   0997EC1C4850B27B 2020-12-17 17:39:09      purchase\n",
      "315893  0997EC1C4850B27B 2020-12-17 17:39:09         login\n",
      "34442   0997EC1C4850B27B 2020-12-20 06:05:12      purchase\n",
      "345553  0997EC1C4850B27B 2020-12-20 06:05:12         login\n",
      "37175   163AEC3F3F526473 2020-12-20 04:37:25      purchase\n",
      "353839  163AEC3F3F526473 2020-12-20 04:37:25         login\n",
      "194993  163AEC3F3F526473 2020-12-20 04:37:26  product_page\n",
      "42391   163AEC3F3F526473 2020-12-21 13:00:48      purchase\n",
      "369427  163AEC3F3F526473 2020-12-21 13:00:48         login\n",
      "205344  163AEC3F3F526473 2020-12-21 13:00:53  product_page\n",
      "50613   163AEC3F3F526473 2020-12-23 23:55:28      purchase\n",
      "394086  163AEC3F3F526473 2020-12-23 23:55:28         login\n",
      "221644  163AEC3F3F526473 2020-12-23 23:55:29  product_page\n",
      "3084    1EFE2E865C5F15DA 2020-12-08 23:19:53      purchase\n",
      "250658  1EFE2E865C5F15DA 2020-12-08 23:19:53         login\n",
      "126628  1EFE2E865C5F15DA 2020-12-08 23:19:54  product_page\n",
      "25371   1EFE2E865C5F15DA 2020-12-17 08:31:05      purchase\n",
      "317883  1EFE2E865C5F15DA 2020-12-17 08:31:05         login\n",
      "171199  1EFE2E865C5F15DA 2020-12-17 08:31:08  product_page\n"
     ]
    }
   ],
   "source": [
    "# Análizamos el comportamiento de estos usuarios\n",
    "\n",
    "# tomamos 3 usuarios de ejemplo que tienen purchase pero no cart\n",
    "sample_users = list(purchase_without_cart)[:3]\n",
    "\n",
    "# vemos todos sus eventos ordenados\n",
    "sample_flows = (\n",
    "    events[events[\"user_id\"].isin(sample_users)]\n",
    "    .sort_values([\"user_id\",\"event_dt\"])\n",
    ")\n",
    "\n",
    "print(sample_flows[[\"user_id\",\"event_dt\",\"event_name\"]].head(30))\n"
   ]
  },
  {
   "cell_type": "code",
   "execution_count": 153,
   "id": "dbca0a71",
   "metadata": {},
   "outputs": [
    {
     "name": "stdout",
     "output_type": "stream",
     "text": [
      "Eventos con más de un tipo en el mismo segundo: 112588\n"
     ]
    }
   ],
   "source": [
    "dup_events = (\n",
    "    events.groupby([\"user_id\", \"event_dt\"])[\"event_name\"]\n",
    "    .nunique()\n",
    "    .reset_index()\n",
    ")\n",
    "\n",
    "same_time = dup_events[dup_events[\"event_name\"] > 1]\n",
    "print(f\"Eventos con más de un tipo en el mismo segundo: {len(same_time)}\")\n"
   ]
  },
  {
   "cell_type": "markdown",
   "id": "30b9ee17",
   "metadata": {},
   "source": [
    "**Anomalías que vemos:**\n",
    "- Eventos como purchase y login exactamente en el mismo segundo.\n",
    "- Secuencias ilógicas: purchase antes de product_page, o sin cart.\n",
    "\n",
    "**Posibles causas**\n",
    "- Algunos sistemas mandan eventos en paquetes, y al guardarse reciben la misma marca de tiempo, eso hace que parezca que todo pasó a la vez.\n",
    "- Si el timestamp es de “servidor que recibe”, puede no respetar el orden exacto de lo que hizo el usuario.\n",
    "- Puede que purchase se dispare automáticamente cuando se completa una transacción, y el sistema envía un login de confirmación en paralelo.\n",
    "\n",
    "#### Para interpretar la prueba A/B, debemos centrarnos en conversiones absolutas de purchase y product_page"
   ]
  },
  {
   "cell_type": "code",
   "execution_count": 157,
   "id": "6fc30dd6",
   "metadata": {},
   "outputs": [
    {
     "name": "stdout",
     "output_type": "stream",
     "text": [
      "       has_product_page  has_purchase\n",
      "group                                \n",
      "A                 64.80         31.74\n",
      "B                 56.36         27.59\n"
     ]
    }
   ],
   "source": [
    "# calcular porcentaje de usuarios que vieron product_page o hicieron purchase\n",
    "conversion_absoluta = (\n",
    "    df_funnel.groupby(\"group\")[[\"has_product_page\",\"has_purchase\"]]\n",
    "    .mean()  # promedio de 0/1 = porcentaje de usuarios\n",
    "    .mul(100)  # pasar a %\n",
    "    .round(2)\n",
    ")\n",
    "print(conversion_absoluta)\n"
   ]
  },
  {
   "cell_type": "code",
   "execution_count": 159,
   "id": "527e1264",
   "metadata": {},
   "outputs": [
    {
     "data": {
      "image/png": "[encoded data removed]",
      "text/plain": [
       "<Figure size 700x500 with 1 Axes>"
      ]
     },
     "metadata": {},
     "output_type": "display_data"
    }
   ],
   "source": [
    "# conversion_absoluta ya calculada\n",
    "conversion_absoluta = (\n",
    "    df_funnel.groupby(\"group\")[[\"has_product_page\",\"has_purchase\"]]\n",
    "    .mean()\n",
    "    .mul(100)\n",
    "    .round(2)\n",
    ")\n",
    "\n",
    "# etiquetas y posiciones\n",
    "stages = [\"has_product_page\", \"has_purchase\"]\n",
    "stage_labels = [\"Product Page\", \"Purchase\"]\n",
    "x = np.arange(len(stages))\n",
    "width = 0.35\n",
    "\n",
    "fig, ax = plt.subplots(figsize=(7,5))\n",
    "\n",
    "# barras por grupo\n",
    "ax.bar(x - width/2, conversion_absoluta.loc[\"A\", stages], width, label=\"Grupo A\", color=\"skyblue\")\n",
    "ax.bar(x + width/2, conversion_absoluta.loc[\"B\", stages], width, label=\"Grupo B\", color=\"lightcoral\")\n",
    "\n",
    "# detalles\n",
    "ax.set_xticks(x)\n",
    "ax.set_xticklabels(stage_labels)\n",
    "ax.set_ylabel(\"Usuarios (%)\")\n",
    "ax.set_title(\"Conversiones absolutas por grupo\")\n",
    "ax.legend()\n",
    "\n",
    "# anotar valores encima de cada barra\n",
    "for i, stage in enumerate(stages):\n",
    "    ax.text(i - width/2, conversion_absoluta.loc[\"A\", stage] + 1, f\"{conversion_absoluta.loc['A', stage]:.1f}%\", ha=\"center\")\n",
    "    ax.text(i + width/2, conversion_absoluta.loc[\"B\", stage] + 1, f\"{conversion_absoluta.loc['B', stage]:.1f}%\", ha=\"center\")\n",
    "\n",
    "plt.tight_layout()\n",
    "plt.show()"
   ]
  },
  {
   "cell_type": "markdown",
   "id": "147fb701",
   "metadata": {},
   "source": [
    "El gráfico permite ver de un vistazo que B no alcanzó la mejora esperada, y que el embudo real se basa solo en estas dos etapas."
   ]
  }
 ],
 "metadata": {
  "kernelspec": {
   "display_name": "analisis",
   "language": "python",
   "name": "python3"
  },
  "language_info": {
   "codemirror_mode": {
    "name": "ipython",
    "version": 3
   },
   "file_extension": ".py",
   "mimetype": "text/x-python",
   "name": "python",
   "nbconvert_exporter": "python",
   "pygments_lexer": "ipython3",
   "version": "3.11.11"
  }
 },
 "nbformat": 4,
 "nbformat_minor": 5
}
