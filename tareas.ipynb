{
 "cells": [
  {
   "cell_type": "markdown",
   "id": "309d63f7",
   "metadata": {},
   "source": [
    "\n",
    "# Descomposición de tareas\n",
    "\n",
    "## Definir objetivos\n",
    "- **Identificar operadores ineficaces**:\n",
    "    - Muchas llamadas entrantes perdidas (internas y externas)\n",
    "    - Mucho tiempo de espera para llamadas entrantes\n",
    "    - Pocas llamadas salientes)\n",
    "\n",
    "## Preprocesamiento de datos\n",
    "- Estudiar valores ausentes\n",
    "- Estudiar valores duplicados\n",
    "- Eliminar duplicados\n",
    "- Reemplazar valores ausentes\n",
    "- Convertir tipos\n",
    "- Estudiar el tipo de correspondencia\n",
    "- Comprobar la exactitud de los nombres de columnas\n",
    "- Renombrar las columnas\n",
    "\n",
    "## Análisis exploratorio\n",
    "- Organizar data set por operator_id\n",
    "- Analizar las llamadas entrantes perdidas\n",
    "      - Separar las llamadas entrantes perdidas internas de las externas\n",
    "- Revisar los tiempos de espera para las Llamadas entrantes\n",
    "- Identificar operadores con pocas llamadas salientes\n",
    "- Graficar cada uno de los puntos pasados\n",
    "\n",
    "## Conclusiones\n",
    "- Identificar operadores con\n",
    "      - Alto número de llamadas entrantes perdidas\n",
    "      - Valores altos de tiempos de espera\n",
    "      - Pocas llamadas salientes\n",
    "- Analizar la relación entre Buenos operadores y malos operadores"
   ]
  }
 ],
 "metadata": {
  "language_info": {
   "name": "python"
  }
 },
 "nbformat": 4,
 "nbformat_minor": 5
}
